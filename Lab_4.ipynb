{
  "nbformat": 4,
  "nbformat_minor": 0,
  "metadata": {
    "colab": {
      "provenance": [],
      "include_colab_link": true
    },
    "kernelspec": {
      "name": "python3",
      "display_name": "Python 3"
    },
    "language_info": {
      "name": "python"
    }
  },
  "cells": [
    {
      "cell_type": "markdown",
      "metadata": {
        "id": "view-in-github",
        "colab_type": "text"
      },
      "source": [
        "<a href=\"https://colab.research.google.com/github/andrejtodorovski/Vnp/blob/main/Lab_4.ipynb\" target=\"_parent\"><img src=\"https://colab.research.google.com/assets/colab-badge.svg\" alt=\"Open In Colab\"/></a>"
      ]
    },
    {
      "cell_type": "markdown",
      "source": [
        "<ul><font size = 5 color='Orange'>\n",
        "Learning Goals</font>\n",
        "<font color = 'Orange'>\n",
        "<ul>We are using the same dataset as the previous laboratory exercise, now you need to build Neural networks</ul>\n",
        "\n",
        "<li>Build three different networks with using:</li>\n",
        "different layers, activation functions, neurans per layers, number of layers\n",
        "<li>train your network and set the optimal number of epochs and batch size</li>\n",
        "<li>Evaluate the three networks on the same test dataset</li>\n",
        "<li>Compare the results</li>\n",
        "</ul>"
      ],
      "metadata": {
        "id": "wsPEypIyjSq-"
      }
    },
    {
      "cell_type": "markdown",
      "source": [
        "The Dataset for this exercise depends on your index number i.e number_of_data_set = index % 10:\n",
        "\n",
        "\n",
        "0.  https://www.kaggle.com/tunguz/us-elections-dataset\n",
        "1.  https://www.kaggle.com/andrewmvd/heart-failure-clinical-data\n",
        "2.  https://www.kaggle.com/sootersaalu/amazon-top-50-bestselling-books-2009-2019\n",
        "3.  https://www.kaggle.com/anmolkumar/health-insurance-cross-sell-prediction\n",
        "4.  https://www.kaggle.com/uciml/red-wine-quality-cortez-et-al-2009\n",
        "5.  https://www.kaggle.com/anmolkumar/house-price-prediction-challenge\n",
        "6.  https://www.kaggle.com/datasets/tadhgfitzgerald/fifa-international-soccer-mens-ranking-1993now\n",
        "7.  https://www.kaggle.com/arslanali4343/real-estate-dataset\n",
        "8.  https://www.kaggle.com/terenceshin/covid19s-impact-on-airport-traffic\n",
        "9.  https://www.kaggle.com/arslanali4343/top-personality-dataset\n",
        "\n",
        "\n",
        "\n",
        "\n",
        "\n"
      ],
      "metadata": {
        "id": "qO5SWztjhay0"
      }
    },
    {
      "cell_type": "code",
      "source": [
        "import pandas as pd\n",
        "import numpy as np"
      ],
      "metadata": {
        "id": "WORtycj8iCA8"
      },
      "execution_count": 368,
      "outputs": []
    },
    {
      "cell_type": "code",
      "execution_count": 369,
      "metadata": {
        "id": "tNi3STyahTOf"
      },
      "outputs": [],
      "source": [
        "data = pd.read_csv('/content/sample_data/winequality-red.csv')"
      ]
    },
    {
      "cell_type": "code",
      "source": [
        "data.head()\n"
      ],
      "metadata": {
        "id": "OQjXbS5KoUkp",
        "outputId": "f9f59ca5-b03f-4f1b-e319-668879378991",
        "colab": {
          "base_uri": "https://localhost:8080/",
          "height": 267
        }
      },
      "execution_count": 370,
      "outputs": [
        {
          "output_type": "execute_result",
          "data": {
            "text/plain": [
              "   fixed acidity  volatile acidity  citric acid  residual sugar  chlorides  \\\n",
              "0            7.4              0.70         0.00             1.9      0.076   \n",
              "1            7.8              0.88         0.00             2.6      0.098   \n",
              "2            7.8              0.76         0.04             2.3      0.092   \n",
              "3           11.2              0.28         0.56             1.9      0.075   \n",
              "4            7.4              0.70         0.00             1.9      0.076   \n",
              "\n",
              "   free sulfur dioxide  total sulfur dioxide  density    pH  sulphates  \\\n",
              "0                 11.0                  34.0   0.9978  3.51       0.56   \n",
              "1                 25.0                  67.0   0.9968  3.20       0.68   \n",
              "2                 15.0                  54.0   0.9970  3.26       0.65   \n",
              "3                 17.0                  60.0   0.9980  3.16       0.58   \n",
              "4                 11.0                  34.0   0.9978  3.51       0.56   \n",
              "\n",
              "   alcohol  quality  \n",
              "0      9.4        5  \n",
              "1      9.8        5  \n",
              "2      9.8        5  \n",
              "3      9.8        6  \n",
              "4      9.4        5  "
            ],
            "text/html": [
              "\n",
              "  <div id=\"df-5ab0d1b4-732e-42c7-8d91-733799374808\">\n",
              "    <div class=\"colab-df-container\">\n",
              "      <div>\n",
              "<style scoped>\n",
              "    .dataframe tbody tr th:only-of-type {\n",
              "        vertical-align: middle;\n",
              "    }\n",
              "\n",
              "    .dataframe tbody tr th {\n",
              "        vertical-align: top;\n",
              "    }\n",
              "\n",
              "    .dataframe thead th {\n",
              "        text-align: right;\n",
              "    }\n",
              "</style>\n",
              "<table border=\"1\" class=\"dataframe\">\n",
              "  <thead>\n",
              "    <tr style=\"text-align: right;\">\n",
              "      <th></th>\n",
              "      <th>fixed acidity</th>\n",
              "      <th>volatile acidity</th>\n",
              "      <th>citric acid</th>\n",
              "      <th>residual sugar</th>\n",
              "      <th>chlorides</th>\n",
              "      <th>free sulfur dioxide</th>\n",
              "      <th>total sulfur dioxide</th>\n",
              "      <th>density</th>\n",
              "      <th>pH</th>\n",
              "      <th>sulphates</th>\n",
              "      <th>alcohol</th>\n",
              "      <th>quality</th>\n",
              "    </tr>\n",
              "  </thead>\n",
              "  <tbody>\n",
              "    <tr>\n",
              "      <th>0</th>\n",
              "      <td>7.4</td>\n",
              "      <td>0.70</td>\n",
              "      <td>0.00</td>\n",
              "      <td>1.9</td>\n",
              "      <td>0.076</td>\n",
              "      <td>11.0</td>\n",
              "      <td>34.0</td>\n",
              "      <td>0.9978</td>\n",
              "      <td>3.51</td>\n",
              "      <td>0.56</td>\n",
              "      <td>9.4</td>\n",
              "      <td>5</td>\n",
              "    </tr>\n",
              "    <tr>\n",
              "      <th>1</th>\n",
              "      <td>7.8</td>\n",
              "      <td>0.88</td>\n",
              "      <td>0.00</td>\n",
              "      <td>2.6</td>\n",
              "      <td>0.098</td>\n",
              "      <td>25.0</td>\n",
              "      <td>67.0</td>\n",
              "      <td>0.9968</td>\n",
              "      <td>3.20</td>\n",
              "      <td>0.68</td>\n",
              "      <td>9.8</td>\n",
              "      <td>5</td>\n",
              "    </tr>\n",
              "    <tr>\n",
              "      <th>2</th>\n",
              "      <td>7.8</td>\n",
              "      <td>0.76</td>\n",
              "      <td>0.04</td>\n",
              "      <td>2.3</td>\n",
              "      <td>0.092</td>\n",
              "      <td>15.0</td>\n",
              "      <td>54.0</td>\n",
              "      <td>0.9970</td>\n",
              "      <td>3.26</td>\n",
              "      <td>0.65</td>\n",
              "      <td>9.8</td>\n",
              "      <td>5</td>\n",
              "    </tr>\n",
              "    <tr>\n",
              "      <th>3</th>\n",
              "      <td>11.2</td>\n",
              "      <td>0.28</td>\n",
              "      <td>0.56</td>\n",
              "      <td>1.9</td>\n",
              "      <td>0.075</td>\n",
              "      <td>17.0</td>\n",
              "      <td>60.0</td>\n",
              "      <td>0.9980</td>\n",
              "      <td>3.16</td>\n",
              "      <td>0.58</td>\n",
              "      <td>9.8</td>\n",
              "      <td>6</td>\n",
              "    </tr>\n",
              "    <tr>\n",
              "      <th>4</th>\n",
              "      <td>7.4</td>\n",
              "      <td>0.70</td>\n",
              "      <td>0.00</td>\n",
              "      <td>1.9</td>\n",
              "      <td>0.076</td>\n",
              "      <td>11.0</td>\n",
              "      <td>34.0</td>\n",
              "      <td>0.9978</td>\n",
              "      <td>3.51</td>\n",
              "      <td>0.56</td>\n",
              "      <td>9.4</td>\n",
              "      <td>5</td>\n",
              "    </tr>\n",
              "  </tbody>\n",
              "</table>\n",
              "</div>\n",
              "      <button class=\"colab-df-convert\" onclick=\"convertToInteractive('df-5ab0d1b4-732e-42c7-8d91-733799374808')\"\n",
              "              title=\"Convert this dataframe to an interactive table.\"\n",
              "              style=\"display:none;\">\n",
              "        \n",
              "  <svg xmlns=\"http://www.w3.org/2000/svg\" height=\"24px\"viewBox=\"0 0 24 24\"\n",
              "       width=\"24px\">\n",
              "    <path d=\"M0 0h24v24H0V0z\" fill=\"none\"/>\n",
              "    <path d=\"M18.56 5.44l.94 2.06.94-2.06 2.06-.94-2.06-.94-.94-2.06-.94 2.06-2.06.94zm-11 1L8.5 8.5l.94-2.06 2.06-.94-2.06-.94L8.5 2.5l-.94 2.06-2.06.94zm10 10l.94 2.06.94-2.06 2.06-.94-2.06-.94-.94-2.06-.94 2.06-2.06.94z\"/><path d=\"M17.41 7.96l-1.37-1.37c-.4-.4-.92-.59-1.43-.59-.52 0-1.04.2-1.43.59L10.3 9.45l-7.72 7.72c-.78.78-.78 2.05 0 2.83L4 21.41c.39.39.9.59 1.41.59.51 0 1.02-.2 1.41-.59l7.78-7.78 2.81-2.81c.8-.78.8-2.07 0-2.86zM5.41 20L4 18.59l7.72-7.72 1.47 1.35L5.41 20z\"/>\n",
              "  </svg>\n",
              "      </button>\n",
              "      \n",
              "  <style>\n",
              "    .colab-df-container {\n",
              "      display:flex;\n",
              "      flex-wrap:wrap;\n",
              "      gap: 12px;\n",
              "    }\n",
              "\n",
              "    .colab-df-convert {\n",
              "      background-color: #E8F0FE;\n",
              "      border: none;\n",
              "      border-radius: 50%;\n",
              "      cursor: pointer;\n",
              "      display: none;\n",
              "      fill: #1967D2;\n",
              "      height: 32px;\n",
              "      padding: 0 0 0 0;\n",
              "      width: 32px;\n",
              "    }\n",
              "\n",
              "    .colab-df-convert:hover {\n",
              "      background-color: #E2EBFA;\n",
              "      box-shadow: 0px 1px 2px rgba(60, 64, 67, 0.3), 0px 1px 3px 1px rgba(60, 64, 67, 0.15);\n",
              "      fill: #174EA6;\n",
              "    }\n",
              "\n",
              "    [theme=dark] .colab-df-convert {\n",
              "      background-color: #3B4455;\n",
              "      fill: #D2E3FC;\n",
              "    }\n",
              "\n",
              "    [theme=dark] .colab-df-convert:hover {\n",
              "      background-color: #434B5C;\n",
              "      box-shadow: 0px 1px 3px 1px rgba(0, 0, 0, 0.15);\n",
              "      filter: drop-shadow(0px 1px 2px rgba(0, 0, 0, 0.3));\n",
              "      fill: #FFFFFF;\n",
              "    }\n",
              "  </style>\n",
              "\n",
              "      <script>\n",
              "        const buttonEl =\n",
              "          document.querySelector('#df-5ab0d1b4-732e-42c7-8d91-733799374808 button.colab-df-convert');\n",
              "        buttonEl.style.display =\n",
              "          google.colab.kernel.accessAllowed ? 'block' : 'none';\n",
              "\n",
              "        async function convertToInteractive(key) {\n",
              "          const element = document.querySelector('#df-5ab0d1b4-732e-42c7-8d91-733799374808');\n",
              "          const dataTable =\n",
              "            await google.colab.kernel.invokeFunction('convertToInteractive',\n",
              "                                                     [key], {});\n",
              "          if (!dataTable) return;\n",
              "\n",
              "          const docLinkHtml = 'Like what you see? Visit the ' +\n",
              "            '<a target=\"_blank\" href=https://colab.research.google.com/notebooks/data_table.ipynb>data table notebook</a>'\n",
              "            + ' to learn more about interactive tables.';\n",
              "          element.innerHTML = '';\n",
              "          dataTable['output_type'] = 'display_data';\n",
              "          await google.colab.output.renderOutput(dataTable, element);\n",
              "          const docLink = document.createElement('div');\n",
              "          docLink.innerHTML = docLinkHtml;\n",
              "          element.appendChild(docLink);\n",
              "        }\n",
              "      </script>\n",
              "    </div>\n",
              "  </div>\n",
              "  "
            ]
          },
          "metadata": {},
          "execution_count": 370
        }
      ]
    },
    {
      "cell_type": "code",
      "source": [
        "data.info()"
      ],
      "metadata": {
        "id": "9VQmtyzIoXaE",
        "outputId": "37a44c57-71eb-4b78-ce54-d3617f61545e",
        "colab": {
          "base_uri": "https://localhost:8080/"
        }
      },
      "execution_count": 371,
      "outputs": [
        {
          "output_type": "stream",
          "name": "stdout",
          "text": [
            "<class 'pandas.core.frame.DataFrame'>\n",
            "RangeIndex: 1599 entries, 0 to 1598\n",
            "Data columns (total 12 columns):\n",
            " #   Column                Non-Null Count  Dtype  \n",
            "---  ------                --------------  -----  \n",
            " 0   fixed acidity         1599 non-null   float64\n",
            " 1   volatile acidity      1599 non-null   float64\n",
            " 2   citric acid           1599 non-null   float64\n",
            " 3   residual sugar        1599 non-null   float64\n",
            " 4   chlorides             1599 non-null   float64\n",
            " 5   free sulfur dioxide   1599 non-null   float64\n",
            " 6   total sulfur dioxide  1599 non-null   float64\n",
            " 7   density               1599 non-null   float64\n",
            " 8   pH                    1599 non-null   float64\n",
            " 9   sulphates             1599 non-null   float64\n",
            " 10  alcohol               1599 non-null   float64\n",
            " 11  quality               1599 non-null   int64  \n",
            "dtypes: float64(11), int64(1)\n",
            "memory usage: 150.0 KB\n"
          ]
        }
      ]
    },
    {
      "cell_type": "code",
      "source": [
        "data.quality.value_counts()"
      ],
      "metadata": {
        "id": "mK389P5VoYKb",
        "outputId": "a34388ca-6203-49a1-f954-0128daf9448e",
        "colab": {
          "base_uri": "https://localhost:8080/"
        }
      },
      "execution_count": 372,
      "outputs": [
        {
          "output_type": "execute_result",
          "data": {
            "text/plain": [
              "5    681\n",
              "6    638\n",
              "7    199\n",
              "4     53\n",
              "8     18\n",
              "3     10\n",
              "Name: quality, dtype: int64"
            ]
          },
          "metadata": {},
          "execution_count": 372
        }
      ]
    },
    {
      "cell_type": "markdown",
      "source": [
        "Making a binary attribute instead of multiclass"
      ],
      "metadata": {
        "id": "KgfOf_EAqNQ9"
      }
    },
    {
      "cell_type": "code",
      "source": [
        "quality = []\n",
        "for i in data['quality']:\n",
        "    if i >= 1 and i <= 5:\n",
        "        quality.append('bad')\n",
        "    elif i >= 6 and i <= 9:\n",
        "        quality.append('good')\n",
        "data.drop(['quality'],axis=1)\n",
        "data['quality'] = quality"
      ],
      "metadata": {
        "id": "-eR9Ti2joa7L"
      },
      "execution_count": 373,
      "outputs": []
    },
    {
      "cell_type": "code",
      "source": [
        "data.info()"
      ],
      "metadata": {
        "id": "prwuNBEgpH9s",
        "outputId": "f98fb9d8-e4d8-4b42-db3e-e5b5ce71ce58",
        "colab": {
          "base_uri": "https://localhost:8080/"
        }
      },
      "execution_count": 374,
      "outputs": [
        {
          "output_type": "stream",
          "name": "stdout",
          "text": [
            "<class 'pandas.core.frame.DataFrame'>\n",
            "RangeIndex: 1599 entries, 0 to 1598\n",
            "Data columns (total 12 columns):\n",
            " #   Column                Non-Null Count  Dtype  \n",
            "---  ------                --------------  -----  \n",
            " 0   fixed acidity         1599 non-null   float64\n",
            " 1   volatile acidity      1599 non-null   float64\n",
            " 2   citric acid           1599 non-null   float64\n",
            " 3   residual sugar        1599 non-null   float64\n",
            " 4   chlorides             1599 non-null   float64\n",
            " 5   free sulfur dioxide   1599 non-null   float64\n",
            " 6   total sulfur dioxide  1599 non-null   float64\n",
            " 7   density               1599 non-null   float64\n",
            " 8   pH                    1599 non-null   float64\n",
            " 9   sulphates             1599 non-null   float64\n",
            " 10  alcohol               1599 non-null   float64\n",
            " 11  quality               1599 non-null   object \n",
            "dtypes: float64(11), object(1)\n",
            "memory usage: 150.0+ KB\n"
          ]
        }
      ]
    },
    {
      "cell_type": "code",
      "source": [
        "data.quality.value_counts()"
      ],
      "metadata": {
        "id": "dHEMp9_ypjOs",
        "outputId": "af02ecf5-6d07-4668-d355-f69d4d6721b1",
        "colab": {
          "base_uri": "https://localhost:8080/"
        }
      },
      "execution_count": 375,
      "outputs": [
        {
          "output_type": "execute_result",
          "data": {
            "text/plain": [
              "good    855\n",
              "bad     744\n",
              "Name: quality, dtype: int64"
            ]
          },
          "metadata": {},
          "execution_count": 375
        }
      ]
    },
    {
      "cell_type": "markdown",
      "source": [
        "Encoding the target value and scaling everything"
      ],
      "metadata": {
        "id": "gxqnHh56wII2"
      }
    },
    {
      "cell_type": "code",
      "source": [
        "from sklearn.preprocessing import StandardScaler, LabelEncoder\n"
      ],
      "metadata": {
        "id": "4SGwfJ5kqx55"
      },
      "execution_count": 376,
      "outputs": []
    },
    {
      "cell_type": "code",
      "source": [
        "encoder = LabelEncoder()\n",
        "data['quality'] = encoder.fit_transform(data['quality'])\n"
      ],
      "metadata": {
        "id": "Yx0ZcdHUqzPu"
      },
      "execution_count": 377,
      "outputs": []
    },
    {
      "cell_type": "code",
      "source": [
        "data.quality.value_counts()"
      ],
      "metadata": {
        "id": "GBzDzA2sq4qQ",
        "outputId": "ff68a31f-8d12-426d-9a7c-735c666ed1c7",
        "colab": {
          "base_uri": "https://localhost:8080/"
        }
      },
      "execution_count": 378,
      "outputs": [
        {
          "output_type": "execute_result",
          "data": {
            "text/plain": [
              "1    855\n",
              "0    744\n",
              "Name: quality, dtype: int64"
            ]
          },
          "metadata": {},
          "execution_count": 378
        }
      ]
    },
    {
      "cell_type": "code",
      "source": [
        "X = data.drop('quality', axis = 1)\n",
        "Y = data['quality']"
      ],
      "metadata": {
        "id": "7HTQCVKqrChP"
      },
      "execution_count": 379,
      "outputs": []
    },
    {
      "cell_type": "code",
      "source": [
        "from sklearn.model_selection import train_test_split\n",
        "X_train, X_test, Y_train, Y_test = train_test_split(X, Y, test_size = 0.2, random_state = 0)"
      ],
      "metadata": {
        "id": "rch_sdY_rGHt"
      },
      "execution_count": 380,
      "outputs": []
    },
    {
      "cell_type": "code",
      "source": [
        "from sklearn.preprocessing import StandardScaler\n",
        "\n",
        "sc = StandardScaler()\n",
        "\n",
        "X_train = sc.fit_transform(X_train)\n",
        "X_test = sc.transform(X_test)"
      ],
      "metadata": {
        "id": "5-0UeR_RrTPh"
      },
      "execution_count": 381,
      "outputs": []
    },
    {
      "cell_type": "markdown",
      "source": [
        "3 networks with different layers, activation functions, neurans per layers, number of layers"
      ],
      "metadata": {
        "id": "EyvdshJmrsg_"
      }
    },
    {
      "cell_type": "markdown",
      "source": [
        "**First Network**"
      ],
      "metadata": {
        "id": "wCfvmAwMqZ8i"
      }
    },
    {
      "cell_type": "code",
      "source": [
        "from keras.models import Sequential\n",
        "from keras.layers import Dense\n",
        "from keras.layers import Dropout\n",
        "\n",
        "model1 = Sequential()\n",
        "model1.add(Dense(16, input_dim=11, activation='relu'))\n",
        "model1.add(Dense(8, activation='relu'))\n",
        "model1.add(Dense(8, activation='relu'))\n",
        "model1.add(Dense(4, activation='relu'))\n",
        "model1.add(Dense(1, activation='sigmoid'))"
      ],
      "metadata": {
        "id": "_O7MOzsgqHtq"
      },
      "execution_count": 382,
      "outputs": []
    },
    {
      "cell_type": "code",
      "source": [
        "model1.summary()"
      ],
      "metadata": {
        "id": "Y70Wph9brWoy",
        "outputId": "40f0b2b5-f41d-451a-8536-56a921e4cf05",
        "colab": {
          "base_uri": "https://localhost:8080/"
        }
      },
      "execution_count": 383,
      "outputs": [
        {
          "output_type": "stream",
          "name": "stdout",
          "text": [
            "Model: \"sequential_32\"\n",
            "_________________________________________________________________\n",
            " Layer (type)                Output Shape              Param #   \n",
            "=================================================================\n",
            " dense_198 (Dense)           (None, 16)                192       \n",
            "                                                                 \n",
            " dense_199 (Dense)           (None, 8)                 136       \n",
            "                                                                 \n",
            " dense_200 (Dense)           (None, 8)                 72        \n",
            "                                                                 \n",
            " dense_201 (Dense)           (None, 4)                 36        \n",
            "                                                                 \n",
            " dense_202 (Dense)           (None, 1)                 5         \n",
            "                                                                 \n",
            "=================================================================\n",
            "Total params: 441\n",
            "Trainable params: 441\n",
            "Non-trainable params: 0\n",
            "_________________________________________________________________\n"
          ]
        }
      ]
    },
    {
      "cell_type": "code",
      "source": [
        "model1.compile(loss='mean_squared_error', optimizer='adam',metrics=['accuracy']) \n"
      ],
      "metadata": {
        "id": "kNobv0QVsMH6"
      },
      "execution_count": 384,
      "outputs": []
    },
    {
      "cell_type": "code",
      "source": [
        "history1 = model1.fit(X_train, Y_train, epochs=100, batch_size=16)\n"
      ],
      "metadata": {
        "id": "pGmQ8DStsO9f",
        "outputId": "073fce06-03c5-48b4-93fb-8484f7da3912",
        "colab": {
          "base_uri": "https://localhost:8080/"
        }
      },
      "execution_count": 401,
      "outputs": [
        {
          "output_type": "stream",
          "name": "stdout",
          "text": [
            "Epoch 1/100\n",
            "80/80 [==============================] - 0s 2ms/step - loss: 0.1148 - accuracy: 0.8546\n",
            "Epoch 2/100\n",
            "80/80 [==============================] - 0s 2ms/step - loss: 0.1146 - accuracy: 0.8577\n",
            "Epoch 3/100\n",
            "80/80 [==============================] - 0s 2ms/step - loss: 0.1138 - accuracy: 0.8600\n",
            "Epoch 4/100\n",
            "80/80 [==============================] - 0s 2ms/step - loss: 0.1129 - accuracy: 0.8600\n",
            "Epoch 5/100\n",
            "80/80 [==============================] - 0s 2ms/step - loss: 0.1133 - accuracy: 0.8561\n",
            "Epoch 6/100\n",
            "80/80 [==============================] - 0s 2ms/step - loss: 0.1123 - accuracy: 0.8600\n",
            "Epoch 7/100\n",
            "80/80 [==============================] - 0s 2ms/step - loss: 0.1116 - accuracy: 0.8632\n",
            "Epoch 8/100\n",
            "80/80 [==============================] - 0s 2ms/step - loss: 0.1112 - accuracy: 0.8616\n",
            "Epoch 9/100\n",
            "80/80 [==============================] - 0s 2ms/step - loss: 0.1110 - accuracy: 0.8600\n",
            "Epoch 10/100\n",
            "80/80 [==============================] - 0s 2ms/step - loss: 0.1125 - accuracy: 0.8577\n",
            "Epoch 11/100\n",
            "80/80 [==============================] - 0s 2ms/step - loss: 0.1111 - accuracy: 0.8593\n",
            "Epoch 12/100\n",
            "80/80 [==============================] - 0s 2ms/step - loss: 0.1102 - accuracy: 0.8569\n",
            "Epoch 13/100\n",
            "80/80 [==============================] - 0s 2ms/step - loss: 0.1104 - accuracy: 0.8640\n",
            "Epoch 14/100\n",
            "80/80 [==============================] - 0s 2ms/step - loss: 0.1090 - accuracy: 0.8616\n",
            "Epoch 15/100\n",
            "80/80 [==============================] - 0s 2ms/step - loss: 0.1126 - accuracy: 0.8600\n",
            "Epoch 16/100\n",
            "80/80 [==============================] - 0s 2ms/step - loss: 0.1095 - accuracy: 0.8671\n",
            "Epoch 17/100\n",
            "80/80 [==============================] - 0s 2ms/step - loss: 0.1107 - accuracy: 0.8585\n",
            "Epoch 18/100\n",
            "80/80 [==============================] - 0s 2ms/step - loss: 0.1087 - accuracy: 0.8702\n",
            "Epoch 19/100\n",
            "80/80 [==============================] - 0s 2ms/step - loss: 0.1091 - accuracy: 0.8608\n",
            "Epoch 20/100\n",
            "80/80 [==============================] - 0s 2ms/step - loss: 0.1087 - accuracy: 0.8655\n",
            "Epoch 21/100\n",
            "80/80 [==============================] - 0s 2ms/step - loss: 0.1073 - accuracy: 0.8702\n",
            "Epoch 22/100\n",
            "80/80 [==============================] - 0s 2ms/step - loss: 0.1064 - accuracy: 0.8733\n",
            "Epoch 23/100\n",
            "80/80 [==============================] - 0s 2ms/step - loss: 0.1064 - accuracy: 0.8780\n",
            "Epoch 24/100\n",
            "80/80 [==============================] - 0s 2ms/step - loss: 0.1068 - accuracy: 0.8710\n",
            "Epoch 25/100\n",
            "80/80 [==============================] - 0s 2ms/step - loss: 0.1060 - accuracy: 0.8686\n",
            "Epoch 26/100\n",
            "80/80 [==============================] - 0s 2ms/step - loss: 0.1061 - accuracy: 0.8702\n",
            "Epoch 27/100\n",
            "80/80 [==============================] - 0s 2ms/step - loss: 0.1052 - accuracy: 0.8702\n",
            "Epoch 28/100\n",
            "80/80 [==============================] - 0s 2ms/step - loss: 0.1040 - accuracy: 0.8726\n",
            "Epoch 29/100\n",
            "80/80 [==============================] - 0s 2ms/step - loss: 0.1067 - accuracy: 0.8686\n",
            "Epoch 30/100\n",
            "80/80 [==============================] - 0s 2ms/step - loss: 0.1060 - accuracy: 0.8671\n",
            "Epoch 31/100\n",
            "80/80 [==============================] - 0s 2ms/step - loss: 0.1051 - accuracy: 0.8679\n",
            "Epoch 32/100\n",
            "80/80 [==============================] - 0s 2ms/step - loss: 0.1038 - accuracy: 0.8726\n",
            "Epoch 33/100\n",
            "80/80 [==============================] - 0s 2ms/step - loss: 0.1049 - accuracy: 0.8686\n",
            "Epoch 34/100\n",
            "80/80 [==============================] - 0s 2ms/step - loss: 0.1047 - accuracy: 0.8710\n",
            "Epoch 35/100\n",
            "80/80 [==============================] - 0s 2ms/step - loss: 0.1026 - accuracy: 0.8726\n",
            "Epoch 36/100\n",
            "80/80 [==============================] - 0s 2ms/step - loss: 0.1028 - accuracy: 0.8718\n",
            "Epoch 37/100\n",
            "80/80 [==============================] - 0s 2ms/step - loss: 0.1032 - accuracy: 0.8726\n",
            "Epoch 38/100\n",
            "80/80 [==============================] - 0s 2ms/step - loss: 0.1030 - accuracy: 0.8788\n",
            "Epoch 39/100\n",
            "80/80 [==============================] - 0s 2ms/step - loss: 0.1027 - accuracy: 0.8749\n",
            "Epoch 40/100\n",
            "80/80 [==============================] - 0s 2ms/step - loss: 0.1034 - accuracy: 0.8772\n",
            "Epoch 41/100\n",
            "80/80 [==============================] - 0s 2ms/step - loss: 0.1028 - accuracy: 0.8757\n",
            "Epoch 42/100\n",
            "80/80 [==============================] - 0s 2ms/step - loss: 0.1044 - accuracy: 0.8757\n",
            "Epoch 43/100\n",
            "80/80 [==============================] - 0s 2ms/step - loss: 0.1029 - accuracy: 0.8749\n",
            "Epoch 44/100\n",
            "80/80 [==============================] - 0s 2ms/step - loss: 0.1031 - accuracy: 0.8702\n",
            "Epoch 45/100\n",
            "80/80 [==============================] - 0s 2ms/step - loss: 0.1012 - accuracy: 0.8733\n",
            "Epoch 46/100\n",
            "80/80 [==============================] - 0s 2ms/step - loss: 0.1014 - accuracy: 0.8819\n",
            "Epoch 47/100\n",
            "80/80 [==============================] - 0s 2ms/step - loss: 0.1025 - accuracy: 0.8796\n",
            "Epoch 48/100\n",
            "80/80 [==============================] - 0s 2ms/step - loss: 0.1001 - accuracy: 0.8780\n",
            "Epoch 49/100\n",
            "80/80 [==============================] - 0s 2ms/step - loss: 0.0994 - accuracy: 0.8835\n",
            "Epoch 50/100\n",
            "80/80 [==============================] - 0s 2ms/step - loss: 0.1009 - accuracy: 0.8772\n",
            "Epoch 51/100\n",
            "80/80 [==============================] - 0s 2ms/step - loss: 0.0999 - accuracy: 0.8796\n",
            "Epoch 52/100\n",
            "80/80 [==============================] - 0s 2ms/step - loss: 0.0983 - accuracy: 0.8843\n",
            "Epoch 53/100\n",
            "80/80 [==============================] - 0s 2ms/step - loss: 0.0985 - accuracy: 0.8796\n",
            "Epoch 54/100\n",
            "80/80 [==============================] - 0s 2ms/step - loss: 0.0984 - accuracy: 0.8882\n",
            "Epoch 55/100\n",
            "80/80 [==============================] - 0s 2ms/step - loss: 0.0987 - accuracy: 0.8812\n",
            "Epoch 56/100\n",
            "80/80 [==============================] - 0s 2ms/step - loss: 0.0984 - accuracy: 0.8843\n",
            "Epoch 57/100\n",
            "80/80 [==============================] - 0s 2ms/step - loss: 0.0985 - accuracy: 0.8765\n",
            "Epoch 58/100\n",
            "80/80 [==============================] - 0s 2ms/step - loss: 0.0977 - accuracy: 0.8819\n",
            "Epoch 59/100\n",
            "80/80 [==============================] - 0s 2ms/step - loss: 0.0976 - accuracy: 0.8827\n",
            "Epoch 60/100\n",
            "80/80 [==============================] - 0s 2ms/step - loss: 0.0970 - accuracy: 0.8866\n",
            "Epoch 61/100\n",
            "80/80 [==============================] - 0s 2ms/step - loss: 0.0970 - accuracy: 0.8843\n",
            "Epoch 62/100\n",
            "80/80 [==============================] - 0s 2ms/step - loss: 0.0971 - accuracy: 0.8835\n",
            "Epoch 63/100\n",
            "80/80 [==============================] - 0s 2ms/step - loss: 0.0970 - accuracy: 0.8819\n",
            "Epoch 64/100\n",
            "80/80 [==============================] - 0s 2ms/step - loss: 0.0959 - accuracy: 0.8796\n",
            "Epoch 65/100\n",
            "80/80 [==============================] - 0s 2ms/step - loss: 0.0956 - accuracy: 0.8866\n",
            "Epoch 66/100\n",
            "80/80 [==============================] - 0s 2ms/step - loss: 0.0987 - accuracy: 0.8757\n",
            "Epoch 67/100\n",
            "80/80 [==============================] - 0s 2ms/step - loss: 0.0957 - accuracy: 0.8843\n",
            "Epoch 68/100\n",
            "80/80 [==============================] - 0s 2ms/step - loss: 0.0960 - accuracy: 0.8851\n",
            "Epoch 69/100\n",
            "80/80 [==============================] - 0s 2ms/step - loss: 0.0957 - accuracy: 0.8898\n",
            "Epoch 70/100\n",
            "80/80 [==============================] - 0s 2ms/step - loss: 0.0947 - accuracy: 0.8851\n",
            "Epoch 71/100\n",
            "80/80 [==============================] - 0s 2ms/step - loss: 0.0956 - accuracy: 0.8882\n",
            "Epoch 72/100\n",
            "80/80 [==============================] - 0s 2ms/step - loss: 0.0951 - accuracy: 0.8890\n",
            "Epoch 73/100\n",
            "80/80 [==============================] - 0s 2ms/step - loss: 0.0932 - accuracy: 0.8898\n",
            "Epoch 74/100\n",
            "80/80 [==============================] - 0s 2ms/step - loss: 0.0949 - accuracy: 0.8882\n",
            "Epoch 75/100\n",
            "80/80 [==============================] - 0s 2ms/step - loss: 0.0931 - accuracy: 0.8905\n",
            "Epoch 76/100\n",
            "80/80 [==============================] - 0s 2ms/step - loss: 0.0933 - accuracy: 0.8913\n",
            "Epoch 77/100\n",
            "80/80 [==============================] - 0s 2ms/step - loss: 0.0917 - accuracy: 0.8944\n",
            "Epoch 78/100\n",
            "80/80 [==============================] - 0s 2ms/step - loss: 0.0922 - accuracy: 0.8976\n",
            "Epoch 79/100\n",
            "80/80 [==============================] - 0s 2ms/step - loss: 0.0931 - accuracy: 0.8905\n",
            "Epoch 80/100\n",
            "80/80 [==============================] - 0s 2ms/step - loss: 0.0928 - accuracy: 0.8921\n",
            "Epoch 81/100\n",
            "80/80 [==============================] - 0s 2ms/step - loss: 0.0929 - accuracy: 0.8913\n",
            "Epoch 82/100\n",
            "80/80 [==============================] - 0s 2ms/step - loss: 0.0917 - accuracy: 0.8905\n",
            "Epoch 83/100\n",
            "80/80 [==============================] - 0s 2ms/step - loss: 0.0913 - accuracy: 0.8960\n",
            "Epoch 84/100\n",
            "80/80 [==============================] - 0s 2ms/step - loss: 0.0906 - accuracy: 0.8991\n",
            "Epoch 85/100\n",
            "80/80 [==============================] - 0s 2ms/step - loss: 0.0919 - accuracy: 0.8929\n",
            "Epoch 86/100\n",
            "80/80 [==============================] - 0s 2ms/step - loss: 0.0892 - accuracy: 0.8976\n",
            "Epoch 87/100\n",
            "80/80 [==============================] - 0s 2ms/step - loss: 0.0887 - accuracy: 0.8976\n",
            "Epoch 88/100\n",
            "80/80 [==============================] - 0s 2ms/step - loss: 0.0898 - accuracy: 0.8960\n",
            "Epoch 89/100\n",
            "80/80 [==============================] - 0s 2ms/step - loss: 0.0891 - accuracy: 0.8968\n",
            "Epoch 90/100\n",
            "80/80 [==============================] - 0s 2ms/step - loss: 0.0906 - accuracy: 0.8960\n",
            "Epoch 91/100\n",
            "80/80 [==============================] - 0s 2ms/step - loss: 0.0940 - accuracy: 0.8866\n",
            "Epoch 92/100\n",
            "80/80 [==============================] - 0s 2ms/step - loss: 0.0907 - accuracy: 0.8984\n",
            "Epoch 93/100\n",
            "80/80 [==============================] - 0s 2ms/step - loss: 0.0916 - accuracy: 0.8874\n",
            "Epoch 94/100\n",
            "80/80 [==============================] - 0s 2ms/step - loss: 0.0915 - accuracy: 0.8921\n",
            "Epoch 95/100\n",
            "80/80 [==============================] - 0s 2ms/step - loss: 0.0893 - accuracy: 0.8999\n",
            "Epoch 96/100\n",
            "80/80 [==============================] - 0s 2ms/step - loss: 0.0906 - accuracy: 0.8937\n",
            "Epoch 97/100\n",
            "80/80 [==============================] - 0s 2ms/step - loss: 0.0889 - accuracy: 0.8976\n",
            "Epoch 98/100\n",
            "80/80 [==============================] - 0s 2ms/step - loss: 0.0879 - accuracy: 0.9023\n",
            "Epoch 99/100\n",
            "80/80 [==============================] - 0s 2ms/step - loss: 0.0876 - accuracy: 0.9023\n",
            "Epoch 100/100\n",
            "80/80 [==============================] - 0s 2ms/step - loss: 0.0884 - accuracy: 0.8991\n"
          ]
        }
      ]
    },
    {
      "cell_type": "code",
      "source": [
        "y_pred_1 = model1.predict(X_test) \n",
        "y_pred_1 = y_pred_1.round()"
      ],
      "metadata": {
        "id": "uHL3FQKxv82P",
        "outputId": "e43d74c2-df1a-4a06-830b-6b03e1ef4896",
        "colab": {
          "base_uri": "https://localhost:8080/"
        }
      },
      "execution_count": 402,
      "outputs": [
        {
          "output_type": "stream",
          "name": "stdout",
          "text": [
            "10/10 [==============================] - 0s 2ms/step\n"
          ]
        }
      ]
    },
    {
      "cell_type": "code",
      "source": [
        "import seaborn as sns\n",
        "from sklearn.metrics import confusion_matrix\n",
        "from sklearn.metrics import accuracy_score\n",
        "\n",
        "cm1 = confusion_matrix(Y_test, y_pred_1.round())\n",
        "sns.heatmap(cm1, annot=True, cmap=\"Blues\", fmt=\"d\", cbar=False)\n",
        "\n",
        "ac1 = accuracy_score(Y_test, y_pred_1.round())\n",
        "print('accuracy of the model: ', ac1)"
      ],
      "metadata": {
        "id": "yQ_Dpfl-v0P3",
        "outputId": "29f666b7-c4f1-4343-b67d-9c6227abc071",
        "colab": {
          "base_uri": "https://localhost:8080/",
          "height": 282
        }
      },
      "execution_count": 403,
      "outputs": [
        {
          "output_type": "stream",
          "name": "stdout",
          "text": [
            "accuracy of the model:  0.73125\n"
          ]
        },
        {
          "output_type": "display_data",
          "data": {
            "text/plain": [
              "<Figure size 432x288 with 1 Axes>"
            ],
            "image/png": "[encoded data removed]"
          },
          "metadata": {
            "needs_background": "light"
          }
        }
      ]
    },
    {
      "cell_type": "markdown",
      "source": [
        "Second network"
      ],
      "metadata": {
        "id": "cWcGjma_x9WJ"
      }
    },
    {
      "cell_type": "code",
      "source": [
        "from keras.models import Sequential\n",
        "from keras.layers import Dense\n",
        "from keras.layers import Dropout\n",
        "\n",
        "model2 = Sequential()\n",
        "model2.add(Dense(256, input_dim=11, activation='relu'))\n",
        "model2.add(Dropout(0.1, input_shape=(256,)))\n",
        "model2.add(Dense(128, activation='relu'))\n",
        "model2.add(Dropout(0.1, input_shape=(128,)))\n",
        "model2.add(Dense(64, activation='relu'))\n",
        "model2.add(Dropout(0.1, input_shape=(64,)))\n",
        "model2.add(Dense(32, activation='relu'))\n",
        "model2.add(Dropout(0.1, input_shape=(32,)))\n",
        "model2.add(Dense(16, activation='relu'))\n",
        "model2.add(Dense(8, activation='relu'))\n",
        "model2.add(Dense(8, activation='relu'))\n",
        "model2.add(Dense(1, activation='sigmoid'))"
      ],
      "metadata": {
        "id": "pgfuvKpUtm8G"
      },
      "execution_count": 404,
      "outputs": []
    },
    {
      "cell_type": "code",
      "source": [
        "model2.summary()"
      ],
      "metadata": {
        "id": "UIzZ0Jz3slcL",
        "outputId": "0cad66d3-7350-4188-aba5-0e1b4e532f78",
        "colab": {
          "base_uri": "https://localhost:8080/"
        }
      },
      "execution_count": 405,
      "outputs": [
        {
          "output_type": "stream",
          "name": "stdout",
          "text": [
            "Model: \"sequential_35\"\n",
            "_________________________________________________________________\n",
            " Layer (type)                Output Shape              Param #   \n",
            "=================================================================\n",
            " dense_217 (Dense)           (None, 256)               3072      \n",
            "                                                                 \n",
            " dropout_35 (Dropout)        (None, 256)               0         \n",
            "                                                                 \n",
            " dense_218 (Dense)           (None, 128)               32896     \n",
            "                                                                 \n",
            " dropout_36 (Dropout)        (None, 128)               0         \n",
            "                                                                 \n",
            " dense_219 (Dense)           (None, 64)                8256      \n",
            "                                                                 \n",
            " dropout_37 (Dropout)        (None, 64)                0         \n",
            "                                                                 \n",
            " dense_220 (Dense)           (None, 32)                2080      \n",
            "                                                                 \n",
            " dropout_38 (Dropout)        (None, 32)                0         \n",
            "                                                                 \n",
            " dense_221 (Dense)           (None, 16)                528       \n",
            "                                                                 \n",
            " dense_222 (Dense)           (None, 8)                 136       \n",
            "                                                                 \n",
            " dense_223 (Dense)           (None, 8)                 72        \n",
            "                                                                 \n",
            " dense_224 (Dense)           (None, 1)                 9         \n",
            "                                                                 \n",
            "=================================================================\n",
            "Total params: 47,049\n",
            "Trainable params: 47,049\n",
            "Non-trainable params: 0\n",
            "_________________________________________________________________\n"
          ]
        }
      ]
    },
    {
      "cell_type": "code",
      "source": [
        "model2.compile(loss='mean_squared_error', optimizer='adam',metrics=['accuracy']) \n"
      ],
      "metadata": {
        "id": "KtQMe_Fey4zJ"
      },
      "execution_count": 406,
      "outputs": []
    },
    {
      "cell_type": "code",
      "source": [
        "history2 = model2.fit(X_train, Y_train, epochs=100, batch_size=32)\n"
      ],
      "metadata": {
        "id": "Q0qaAQ3DzJ8b",
        "outputId": "8ea56dfd-d916-4513-e353-a5dbd275517b",
        "colab": {
          "base_uri": "https://localhost:8080/"
        }
      },
      "execution_count": 391,
      "outputs": [
        {
          "output_type": "stream",
          "name": "stdout",
          "text": [
            "Epoch 1/100\n",
            "40/40 [==============================] - 1s 4ms/step - loss: 0.2335 - accuracy: 0.6466\n",
            "Epoch 2/100\n",
            "40/40 [==============================] - 0s 4ms/step - loss: 0.2140 - accuracy: 0.7443\n",
            "Epoch 3/100\n",
            "40/40 [==============================] - 0s 4ms/step - loss: 0.1977 - accuracy: 0.7654\n",
            "Epoch 4/100\n",
            "40/40 [==============================] - 0s 3ms/step - loss: 0.1751 - accuracy: 0.7670\n",
            "Epoch 5/100\n",
            "40/40 [==============================] - 0s 5ms/step - loss: 0.1652 - accuracy: 0.7623\n",
            "Epoch 6/100\n",
            "40/40 [==============================] - 0s 5ms/step - loss: 0.1582 - accuracy: 0.7780\n",
            "Epoch 7/100\n",
            "40/40 [==============================] - 0s 6ms/step - loss: 0.1576 - accuracy: 0.7866\n",
            "Epoch 8/100\n",
            "40/40 [==============================] - 0s 6ms/step - loss: 0.1524 - accuracy: 0.7842\n",
            "Epoch 9/100\n",
            "40/40 [==============================] - 0s 6ms/step - loss: 0.1517 - accuracy: 0.7944\n",
            "Epoch 10/100\n",
            "40/40 [==============================] - 0s 7ms/step - loss: 0.1460 - accuracy: 0.8100\n",
            "Epoch 11/100\n",
            "40/40 [==============================] - 0s 7ms/step - loss: 0.1440 - accuracy: 0.8053\n",
            "Epoch 12/100\n",
            "40/40 [==============================] - 0s 7ms/step - loss: 0.1446 - accuracy: 0.8022\n",
            "Epoch 13/100\n",
            "40/40 [==============================] - 0s 7ms/step - loss: 0.1368 - accuracy: 0.8217\n",
            "Epoch 14/100\n",
            "40/40 [==============================] - 0s 5ms/step - loss: 0.1328 - accuracy: 0.8319\n",
            "Epoch 15/100\n",
            "40/40 [==============================] - 0s 5ms/step - loss: 0.1320 - accuracy: 0.8249\n",
            "Epoch 16/100\n",
            "40/40 [==============================] - 0s 4ms/step - loss: 0.1360 - accuracy: 0.8131\n",
            "Epoch 17/100\n",
            "40/40 [==============================] - 0s 4ms/step - loss: 0.1325 - accuracy: 0.8147\n",
            "Epoch 18/100\n",
            "40/40 [==============================] - 0s 4ms/step - loss: 0.1270 - accuracy: 0.8264\n",
            "Epoch 19/100\n",
            "40/40 [==============================] - 0s 4ms/step - loss: 0.1240 - accuracy: 0.8350\n",
            "Epoch 20/100\n",
            "40/40 [==============================] - 0s 3ms/step - loss: 0.1214 - accuracy: 0.8374\n",
            "Epoch 21/100\n",
            "40/40 [==============================] - 0s 4ms/step - loss: 0.1172 - accuracy: 0.8460\n",
            "Epoch 22/100\n",
            "40/40 [==============================] - 0s 4ms/step - loss: 0.1197 - accuracy: 0.8350\n",
            "Epoch 23/100\n",
            "40/40 [==============================] - 0s 3ms/step - loss: 0.1058 - accuracy: 0.8569\n",
            "Epoch 24/100\n",
            "40/40 [==============================] - 0s 4ms/step - loss: 0.1105 - accuracy: 0.8546\n",
            "Epoch 25/100\n",
            "40/40 [==============================] - 0s 3ms/step - loss: 0.1059 - accuracy: 0.8616\n",
            "Epoch 26/100\n",
            "40/40 [==============================] - 0s 4ms/step - loss: 0.1061 - accuracy: 0.8624\n",
            "Epoch 27/100\n",
            "40/40 [==============================] - 0s 3ms/step - loss: 0.0979 - accuracy: 0.8780\n",
            "Epoch 28/100\n",
            "40/40 [==============================] - 0s 4ms/step - loss: 0.1003 - accuracy: 0.8702\n",
            "Epoch 29/100\n",
            "40/40 [==============================] - 0s 3ms/step - loss: 0.1032 - accuracy: 0.8585\n",
            "Epoch 30/100\n",
            "40/40 [==============================] - 0s 4ms/step - loss: 0.0988 - accuracy: 0.8772\n",
            "Epoch 31/100\n",
            "40/40 [==============================] - 0s 4ms/step - loss: 0.0885 - accuracy: 0.8905\n",
            "Epoch 32/100\n",
            "40/40 [==============================] - 0s 3ms/step - loss: 0.0966 - accuracy: 0.8765\n",
            "Epoch 33/100\n",
            "40/40 [==============================] - 0s 4ms/step - loss: 0.0854 - accuracy: 0.8960\n",
            "Epoch 34/100\n",
            "40/40 [==============================] - 0s 3ms/step - loss: 0.0896 - accuracy: 0.8788\n",
            "Epoch 35/100\n",
            "40/40 [==============================] - 0s 3ms/step - loss: 0.0858 - accuracy: 0.8898\n",
            "Epoch 36/100\n",
            "40/40 [==============================] - 0s 4ms/step - loss: 0.0842 - accuracy: 0.8921\n",
            "Epoch 37/100\n",
            "40/40 [==============================] - 0s 4ms/step - loss: 0.0800 - accuracy: 0.8960\n",
            "Epoch 38/100\n",
            "40/40 [==============================] - 0s 4ms/step - loss: 0.0815 - accuracy: 0.8937\n",
            "Epoch 39/100\n",
            "40/40 [==============================] - 0s 4ms/step - loss: 0.0764 - accuracy: 0.9085\n",
            "Epoch 40/100\n",
            "40/40 [==============================] - 0s 4ms/step - loss: 0.0762 - accuracy: 0.9116\n",
            "Epoch 41/100\n",
            "40/40 [==============================] - 0s 3ms/step - loss: 0.0736 - accuracy: 0.9148\n",
            "Epoch 42/100\n",
            "40/40 [==============================] - 0s 4ms/step - loss: 0.0793 - accuracy: 0.8999\n",
            "Epoch 43/100\n",
            "40/40 [==============================] - 0s 3ms/step - loss: 0.0753 - accuracy: 0.9030\n",
            "Epoch 44/100\n",
            "40/40 [==============================] - 0s 4ms/step - loss: 0.0733 - accuracy: 0.9085\n",
            "Epoch 45/100\n",
            "40/40 [==============================] - 0s 4ms/step - loss: 0.0730 - accuracy: 0.9116\n",
            "Epoch 46/100\n",
            "40/40 [==============================] - 0s 4ms/step - loss: 0.0658 - accuracy: 0.9171\n",
            "Epoch 47/100\n",
            "40/40 [==============================] - 0s 4ms/step - loss: 0.0756 - accuracy: 0.9038\n",
            "Epoch 48/100\n",
            "40/40 [==============================] - 0s 3ms/step - loss: 0.0724 - accuracy: 0.9116\n",
            "Epoch 49/100\n",
            "40/40 [==============================] - 0s 4ms/step - loss: 0.0720 - accuracy: 0.9109\n",
            "Epoch 50/100\n",
            "40/40 [==============================] - 0s 3ms/step - loss: 0.0699 - accuracy: 0.9171\n",
            "Epoch 51/100\n",
            "40/40 [==============================] - 0s 4ms/step - loss: 0.0658 - accuracy: 0.9179\n",
            "Epoch 52/100\n",
            "40/40 [==============================] - 0s 3ms/step - loss: 0.0607 - accuracy: 0.9257\n",
            "Epoch 53/100\n",
            "40/40 [==============================] - 0s 4ms/step - loss: 0.0647 - accuracy: 0.9203\n",
            "Epoch 54/100\n",
            "40/40 [==============================] - 0s 4ms/step - loss: 0.0592 - accuracy: 0.9281\n",
            "Epoch 55/100\n",
            "40/40 [==============================] - 0s 4ms/step - loss: 0.0717 - accuracy: 0.9085\n",
            "Epoch 56/100\n",
            "40/40 [==============================] - 0s 4ms/step - loss: 0.0666 - accuracy: 0.9195\n",
            "Epoch 57/100\n",
            "40/40 [==============================] - 0s 4ms/step - loss: 0.0592 - accuracy: 0.9328\n",
            "Epoch 58/100\n",
            "40/40 [==============================] - 0s 4ms/step - loss: 0.0662 - accuracy: 0.9163\n",
            "Epoch 59/100\n",
            "40/40 [==============================] - 0s 4ms/step - loss: 0.0643 - accuracy: 0.9242\n",
            "Epoch 60/100\n",
            "40/40 [==============================] - 0s 3ms/step - loss: 0.0586 - accuracy: 0.9312\n",
            "Epoch 61/100\n",
            "40/40 [==============================] - 0s 4ms/step - loss: 0.0584 - accuracy: 0.9335\n",
            "Epoch 62/100\n",
            "40/40 [==============================] - 0s 4ms/step - loss: 0.0548 - accuracy: 0.9351\n",
            "Epoch 63/100\n",
            "40/40 [==============================] - 0s 4ms/step - loss: 0.0519 - accuracy: 0.9406\n",
            "Epoch 64/100\n",
            "40/40 [==============================] - 0s 4ms/step - loss: 0.0557 - accuracy: 0.9351\n",
            "Epoch 65/100\n",
            "40/40 [==============================] - 0s 4ms/step - loss: 0.0559 - accuracy: 0.9320\n",
            "Epoch 66/100\n",
            "40/40 [==============================] - 0s 3ms/step - loss: 0.0573 - accuracy: 0.9296\n",
            "Epoch 67/100\n",
            "40/40 [==============================] - 0s 4ms/step - loss: 0.0549 - accuracy: 0.9359\n",
            "Epoch 68/100\n",
            "40/40 [==============================] - 0s 4ms/step - loss: 0.0536 - accuracy: 0.9351\n",
            "Epoch 69/100\n",
            "40/40 [==============================] - 0s 4ms/step - loss: 0.0549 - accuracy: 0.9382\n",
            "Epoch 70/100\n",
            "40/40 [==============================] - 0s 4ms/step - loss: 0.0534 - accuracy: 0.9382\n",
            "Epoch 71/100\n",
            "40/40 [==============================] - 0s 4ms/step - loss: 0.0502 - accuracy: 0.9367\n",
            "Epoch 72/100\n",
            "40/40 [==============================] - 0s 3ms/step - loss: 0.0567 - accuracy: 0.9312\n",
            "Epoch 73/100\n",
            "40/40 [==============================] - 0s 4ms/step - loss: 0.0504 - accuracy: 0.9398\n",
            "Epoch 74/100\n",
            "40/40 [==============================] - 0s 3ms/step - loss: 0.0538 - accuracy: 0.9351\n",
            "Epoch 75/100\n",
            "40/40 [==============================] - 0s 4ms/step - loss: 0.0519 - accuracy: 0.9382\n",
            "Epoch 76/100\n",
            "40/40 [==============================] - 0s 4ms/step - loss: 0.0532 - accuracy: 0.9367\n",
            "Epoch 77/100\n",
            "40/40 [==============================] - 0s 4ms/step - loss: 0.0523 - accuracy: 0.9390\n",
            "Epoch 78/100\n",
            "40/40 [==============================] - 0s 3ms/step - loss: 0.0515 - accuracy: 0.9406\n",
            "Epoch 79/100\n",
            "40/40 [==============================] - 0s 4ms/step - loss: 0.0497 - accuracy: 0.9437\n",
            "Epoch 80/100\n",
            "40/40 [==============================] - 0s 3ms/step - loss: 0.0511 - accuracy: 0.9375\n",
            "Epoch 81/100\n",
            "40/40 [==============================] - 0s 4ms/step - loss: 0.0428 - accuracy: 0.9507\n",
            "Epoch 82/100\n",
            "40/40 [==============================] - 0s 4ms/step - loss: 0.0528 - accuracy: 0.9359\n",
            "Epoch 83/100\n",
            "40/40 [==============================] - 0s 4ms/step - loss: 0.0586 - accuracy: 0.9335\n",
            "Epoch 84/100\n",
            "40/40 [==============================] - 0s 4ms/step - loss: 0.0523 - accuracy: 0.9382\n",
            "Epoch 85/100\n",
            "40/40 [==============================] - 0s 4ms/step - loss: 0.0402 - accuracy: 0.9547\n",
            "Epoch 86/100\n",
            "40/40 [==============================] - 0s 3ms/step - loss: 0.0451 - accuracy: 0.9453\n",
            "Epoch 87/100\n",
            "40/40 [==============================] - 0s 4ms/step - loss: 0.0446 - accuracy: 0.9445\n",
            "Epoch 88/100\n",
            "40/40 [==============================] - 0s 3ms/step - loss: 0.0444 - accuracy: 0.9507\n",
            "Epoch 89/100\n",
            "40/40 [==============================] - 0s 4ms/step - loss: 0.0422 - accuracy: 0.9515\n",
            "Epoch 90/100\n",
            "40/40 [==============================] - 0s 4ms/step - loss: 0.0440 - accuracy: 0.9492\n",
            "Epoch 91/100\n",
            "40/40 [==============================] - 0s 4ms/step - loss: 0.0524 - accuracy: 0.9343\n",
            "Epoch 92/100\n",
            "40/40 [==============================] - 0s 4ms/step - loss: 0.0467 - accuracy: 0.9414\n",
            "Epoch 93/100\n",
            "40/40 [==============================] - 0s 4ms/step - loss: 0.0438 - accuracy: 0.9468\n",
            "Epoch 94/100\n",
            "40/40 [==============================] - 0s 4ms/step - loss: 0.0412 - accuracy: 0.9523\n",
            "Epoch 95/100\n",
            "40/40 [==============================] - 0s 4ms/step - loss: 0.0413 - accuracy: 0.9523\n",
            "Epoch 96/100\n",
            "40/40 [==============================] - 0s 4ms/step - loss: 0.0415 - accuracy: 0.9515\n",
            "Epoch 97/100\n",
            "40/40 [==============================] - 0s 4ms/step - loss: 0.0512 - accuracy: 0.9390\n",
            "Epoch 98/100\n",
            "40/40 [==============================] - 0s 3ms/step - loss: 0.0474 - accuracy: 0.9445\n",
            "Epoch 99/100\n",
            "40/40 [==============================] - 0s 4ms/step - loss: 0.0385 - accuracy: 0.9554\n",
            "Epoch 100/100\n",
            "40/40 [==============================] - 0s 3ms/step - loss: 0.0432 - accuracy: 0.9500\n"
          ]
        }
      ]
    },
    {
      "cell_type": "code",
      "source": [
        "y_pred_2 = model2.predict(X_test) \n",
        "y_pred_2 = y_pred_2.round()"
      ],
      "metadata": {
        "id": "b6mZ3na4zMjK",
        "outputId": "67a159fe-a06d-4059-e758-90b9728f5988",
        "colab": {
          "base_uri": "https://localhost:8080/"
        }
      },
      "execution_count": 392,
      "outputs": [
        {
          "output_type": "stream",
          "name": "stdout",
          "text": [
            "10/10 [==============================] - 0s 2ms/step\n"
          ]
        }
      ]
    },
    {
      "cell_type": "code",
      "source": [
        "import seaborn as sns\n",
        "from sklearn.metrics import confusion_matrix\n",
        "from sklearn.metrics import accuracy_score\n",
        "\n",
        "cm2 = confusion_matrix(Y_test, y_pred_2.round())\n",
        "sns.heatmap(cm2, annot=True, cmap=\"Blues\", fmt=\"d\", cbar=False)\n",
        "\n",
        "ac2 = accuracy_score(Y_test, y_pred_2.round())\n",
        "print('accuracy of the model: ', ac2)"
      ],
      "metadata": {
        "id": "BhXcI0KCzZex",
        "outputId": "09fcdc7a-a795-4339-b885-a692c327d19d",
        "colab": {
          "base_uri": "https://localhost:8080/",
          "height": 282
        }
      },
      "execution_count": 393,
      "outputs": [
        {
          "output_type": "stream",
          "name": "stdout",
          "text": [
            "accuracy of the model:  0.778125\n"
          ]
        },
        {
          "output_type": "display_data",
          "data": {
            "text/plain": [
              "<Figure size 432x288 with 1 Axes>"
            ],
            "image/png": "[encoded data removed]"
          },
          "metadata": {
            "needs_background": "light"
          }
        }
      ]
    },
    {
      "cell_type": "markdown",
      "source": [
        "Third network"
      ],
      "metadata": {
        "id": "i31dnm3u00Xe"
      }
    },
    {
      "cell_type": "code",
      "source": [
        "model3 = Sequential()\n",
        "model3.add(Dense(256, kernel_initializer='uniform', activation='relu', input_dim=11))\n",
        "model3.add(Dropout(0.1, input_shape=(256,)))\n",
        "model3.add(Dense(64, kernel_initializer='uniform', activation='relu'))\n",
        "model3.add(Dense(128, kernel_initializer='uniform', activation='relu'))\n",
        "model3.add(Dense(128, kernel_initializer='uniform', activation='relu'))\n",
        "model3.add(Dense(128, kernel_initializer='uniform', activation='relu'))\n",
        "model3.add(Dense(1, kernel_initializer='uniform', activation='sigmoid'))\n"
      ],
      "metadata": {
        "id": "KCTnSjkQzdXC"
      },
      "execution_count": 394,
      "outputs": []
    },
    {
      "cell_type": "code",
      "source": [
        "model3.compile(loss='mean_squared_error', optimizer='adam',metrics=['accuracy']) \n"
      ],
      "metadata": {
        "id": "kjVGePbS05hc"
      },
      "execution_count": 395,
      "outputs": []
    },
    {
      "cell_type": "code",
      "source": [
        "history3 = model3.fit(X_train, Y_train, epochs=100, batch_size=64)\n"
      ],
      "metadata": {
        "id": "EUsjlZh708ha",
        "outputId": "f59270f6-536d-4db2-9ed3-b6a61fbf4c16",
        "colab": {
          "base_uri": "https://localhost:8080/"
        }
      },
      "execution_count": 396,
      "outputs": [
        {
          "output_type": "stream",
          "name": "stdout",
          "text": [
            "Epoch 1/100\n",
            "20/20 [==============================] - 1s 4ms/step - loss: 0.2487 - accuracy: 0.5285\n",
            "Epoch 2/100\n",
            "20/20 [==============================] - 0s 4ms/step - loss: 0.2087 - accuracy: 0.7060\n",
            "Epoch 3/100\n",
            "20/20 [==============================] - 0s 5ms/step - loss: 0.1814 - accuracy: 0.7404\n",
            "Epoch 4/100\n",
            "20/20 [==============================] - 0s 5ms/step - loss: 0.1707 - accuracy: 0.7482\n",
            "Epoch 5/100\n",
            "20/20 [==============================] - 0s 4ms/step - loss: 0.1659 - accuracy: 0.7545\n",
            "Epoch 6/100\n",
            "20/20 [==============================] - 0s 4ms/step - loss: 0.1637 - accuracy: 0.7623\n",
            "Epoch 7/100\n",
            "20/20 [==============================] - 0s 4ms/step - loss: 0.1615 - accuracy: 0.7662\n",
            "Epoch 8/100\n",
            "20/20 [==============================] - 0s 4ms/step - loss: 0.1579 - accuracy: 0.7701\n",
            "Epoch 9/100\n",
            "20/20 [==============================] - 0s 4ms/step - loss: 0.1545 - accuracy: 0.7842\n",
            "Epoch 10/100\n",
            "20/20 [==============================] - 0s 5ms/step - loss: 0.1558 - accuracy: 0.7756\n",
            "Epoch 11/100\n",
            "20/20 [==============================] - 0s 4ms/step - loss: 0.1515 - accuracy: 0.7920\n",
            "Epoch 12/100\n",
            "20/20 [==============================] - 0s 4ms/step - loss: 0.1511 - accuracy: 0.7858\n",
            "Epoch 13/100\n",
            "20/20 [==============================] - 0s 4ms/step - loss: 0.1503 - accuracy: 0.7912\n",
            "Epoch 14/100\n",
            "20/20 [==============================] - 0s 5ms/step - loss: 0.1490 - accuracy: 0.7983\n",
            "Epoch 15/100\n",
            "20/20 [==============================] - 0s 4ms/step - loss: 0.1477 - accuracy: 0.7967\n",
            "Epoch 16/100\n",
            "20/20 [==============================] - 0s 4ms/step - loss: 0.1436 - accuracy: 0.8014\n",
            "Epoch 17/100\n",
            "20/20 [==============================] - 0s 4ms/step - loss: 0.1424 - accuracy: 0.8092\n",
            "Epoch 18/100\n",
            "20/20 [==============================] - 0s 5ms/step - loss: 0.1431 - accuracy: 0.8030\n",
            "Epoch 19/100\n",
            "20/20 [==============================] - 0s 4ms/step - loss: 0.1373 - accuracy: 0.8170\n",
            "Epoch 20/100\n",
            "20/20 [==============================] - 0s 4ms/step - loss: 0.1374 - accuracy: 0.8186\n",
            "Epoch 21/100\n",
            "20/20 [==============================] - 0s 4ms/step - loss: 0.1365 - accuracy: 0.8241\n",
            "Epoch 22/100\n",
            "20/20 [==============================] - 0s 4ms/step - loss: 0.1411 - accuracy: 0.8100\n",
            "Epoch 23/100\n",
            "20/20 [==============================] - 0s 5ms/step - loss: 0.1360 - accuracy: 0.8147\n",
            "Epoch 24/100\n",
            "20/20 [==============================] - 0s 4ms/step - loss: 0.1396 - accuracy: 0.8092\n",
            "Epoch 25/100\n",
            "20/20 [==============================] - 0s 5ms/step - loss: 0.1329 - accuracy: 0.8296\n",
            "Epoch 26/100\n",
            "20/20 [==============================] - 0s 4ms/step - loss: 0.1297 - accuracy: 0.8256\n",
            "Epoch 27/100\n",
            "20/20 [==============================] - 0s 4ms/step - loss: 0.1305 - accuracy: 0.8264\n",
            "Epoch 28/100\n",
            "20/20 [==============================] - 0s 5ms/step - loss: 0.1229 - accuracy: 0.8405\n",
            "Epoch 29/100\n",
            "20/20 [==============================] - 0s 4ms/step - loss: 0.1266 - accuracy: 0.8280\n",
            "Epoch 30/100\n",
            "20/20 [==============================] - 0s 4ms/step - loss: 0.1199 - accuracy: 0.8452\n",
            "Epoch 31/100\n",
            "20/20 [==============================] - 0s 4ms/step - loss: 0.1204 - accuracy: 0.8397\n",
            "Epoch 32/100\n",
            "20/20 [==============================] - 0s 4ms/step - loss: 0.1287 - accuracy: 0.8241\n",
            "Epoch 33/100\n",
            "20/20 [==============================] - 0s 4ms/step - loss: 0.1187 - accuracy: 0.8460\n",
            "Epoch 34/100\n",
            "20/20 [==============================] - 0s 5ms/step - loss: 0.1145 - accuracy: 0.8499\n",
            "Epoch 35/100\n",
            "20/20 [==============================] - 0s 5ms/step - loss: 0.1086 - accuracy: 0.8663\n",
            "Epoch 36/100\n",
            "20/20 [==============================] - 0s 4ms/step - loss: 0.1098 - accuracy: 0.8608\n",
            "Epoch 37/100\n",
            "20/20 [==============================] - 0s 4ms/step - loss: 0.1075 - accuracy: 0.8663\n",
            "Epoch 38/100\n",
            "20/20 [==============================] - 0s 4ms/step - loss: 0.1064 - accuracy: 0.8632\n",
            "Epoch 39/100\n",
            "20/20 [==============================] - 0s 4ms/step - loss: 0.1068 - accuracy: 0.8686\n",
            "Epoch 40/100\n",
            "20/20 [==============================] - 0s 4ms/step - loss: 0.1051 - accuracy: 0.8694\n",
            "Epoch 41/100\n",
            "20/20 [==============================] - 0s 4ms/step - loss: 0.1063 - accuracy: 0.8647\n",
            "Epoch 42/100\n",
            "20/20 [==============================] - 0s 4ms/step - loss: 0.0987 - accuracy: 0.8765\n",
            "Epoch 43/100\n",
            "20/20 [==============================] - 0s 5ms/step - loss: 0.0938 - accuracy: 0.8819\n",
            "Epoch 44/100\n",
            "20/20 [==============================] - 0s 5ms/step - loss: 0.0931 - accuracy: 0.8835\n",
            "Epoch 45/100\n",
            "20/20 [==============================] - 0s 4ms/step - loss: 0.0957 - accuracy: 0.8804\n",
            "Epoch 46/100\n",
            "20/20 [==============================] - 0s 5ms/step - loss: 0.0949 - accuracy: 0.8726\n",
            "Epoch 47/100\n",
            "20/20 [==============================] - 0s 4ms/step - loss: 0.0960 - accuracy: 0.8804\n",
            "Epoch 48/100\n",
            "20/20 [==============================] - 0s 4ms/step - loss: 0.0902 - accuracy: 0.8874\n",
            "Epoch 49/100\n",
            "20/20 [==============================] - 0s 5ms/step - loss: 0.0837 - accuracy: 0.8984\n",
            "Epoch 50/100\n",
            "20/20 [==============================] - 0s 4ms/step - loss: 0.0892 - accuracy: 0.8929\n",
            "Epoch 51/100\n",
            "20/20 [==============================] - 0s 4ms/step - loss: 0.0860 - accuracy: 0.8921\n",
            "Epoch 52/100\n",
            "20/20 [==============================] - 0s 4ms/step - loss: 0.0882 - accuracy: 0.8882\n",
            "Epoch 53/100\n",
            "20/20 [==============================] - 0s 4ms/step - loss: 0.0776 - accuracy: 0.9070\n",
            "Epoch 54/100\n",
            "20/20 [==============================] - 0s 4ms/step - loss: 0.0807 - accuracy: 0.9023\n",
            "Epoch 55/100\n",
            "20/20 [==============================] - 0s 5ms/step - loss: 0.0872 - accuracy: 0.8874\n",
            "Epoch 56/100\n",
            "20/20 [==============================] - 0s 4ms/step - loss: 0.0829 - accuracy: 0.8960\n",
            "Epoch 57/100\n",
            "20/20 [==============================] - 0s 4ms/step - loss: 0.0827 - accuracy: 0.8952\n",
            "Epoch 58/100\n",
            "20/20 [==============================] - 0s 4ms/step - loss: 0.0795 - accuracy: 0.9007\n",
            "Epoch 59/100\n",
            "20/20 [==============================] - 0s 5ms/step - loss: 0.0808 - accuracy: 0.9015\n",
            "Epoch 60/100\n",
            "20/20 [==============================] - 0s 4ms/step - loss: 0.0762 - accuracy: 0.9030\n",
            "Epoch 61/100\n",
            "20/20 [==============================] - 0s 5ms/step - loss: 0.0700 - accuracy: 0.9171\n",
            "Epoch 62/100\n",
            "20/20 [==============================] - 0s 4ms/step - loss: 0.0705 - accuracy: 0.9140\n",
            "Epoch 63/100\n",
            "20/20 [==============================] - 0s 5ms/step - loss: 0.0653 - accuracy: 0.9234\n",
            "Epoch 64/100\n",
            "20/20 [==============================] - 0s 4ms/step - loss: 0.0680 - accuracy: 0.9148\n",
            "Epoch 65/100\n",
            "20/20 [==============================] - 0s 5ms/step - loss: 0.0631 - accuracy: 0.9257\n",
            "Epoch 66/100\n",
            "20/20 [==============================] - 0s 4ms/step - loss: 0.0791 - accuracy: 0.9023\n",
            "Epoch 67/100\n",
            "20/20 [==============================] - 0s 4ms/step - loss: 0.0762 - accuracy: 0.9015\n",
            "Epoch 68/100\n",
            "20/20 [==============================] - 0s 4ms/step - loss: 0.0648 - accuracy: 0.9187\n",
            "Epoch 69/100\n",
            "20/20 [==============================] - 0s 4ms/step - loss: 0.0609 - accuracy: 0.9203\n",
            "Epoch 70/100\n",
            "20/20 [==============================] - 0s 4ms/step - loss: 0.0579 - accuracy: 0.9249\n",
            "Epoch 71/100\n",
            "20/20 [==============================] - 0s 5ms/step - loss: 0.0680 - accuracy: 0.9140\n",
            "Epoch 72/100\n",
            "20/20 [==============================] - 0s 4ms/step - loss: 0.0636 - accuracy: 0.9249\n",
            "Epoch 73/100\n",
            "20/20 [==============================] - 0s 4ms/step - loss: 0.0540 - accuracy: 0.9351\n",
            "Epoch 74/100\n",
            "20/20 [==============================] - 0s 4ms/step - loss: 0.0611 - accuracy: 0.9226\n",
            "Epoch 75/100\n",
            "20/20 [==============================] - 0s 4ms/step - loss: 0.0597 - accuracy: 0.9257\n",
            "Epoch 76/100\n",
            "20/20 [==============================] - 0s 5ms/step - loss: 0.0527 - accuracy: 0.9390\n",
            "Epoch 77/100\n",
            "20/20 [==============================] - 0s 4ms/step - loss: 0.0563 - accuracy: 0.9328\n",
            "Epoch 78/100\n",
            "20/20 [==============================] - 0s 5ms/step - loss: 0.0502 - accuracy: 0.9406\n",
            "Epoch 79/100\n",
            "20/20 [==============================] - 0s 4ms/step - loss: 0.0489 - accuracy: 0.9453\n",
            "Epoch 80/100\n",
            "20/20 [==============================] - 0s 4ms/step - loss: 0.0551 - accuracy: 0.9273\n",
            "Epoch 81/100\n",
            "20/20 [==============================] - 0s 5ms/step - loss: 0.0558 - accuracy: 0.9390\n",
            "Epoch 82/100\n",
            "20/20 [==============================] - 0s 4ms/step - loss: 0.0539 - accuracy: 0.9382\n",
            "Epoch 83/100\n",
            "20/20 [==============================] - 0s 4ms/step - loss: 0.0566 - accuracy: 0.9375\n",
            "Epoch 84/100\n",
            "20/20 [==============================] - 0s 4ms/step - loss: 0.0553 - accuracy: 0.9406\n",
            "Epoch 85/100\n",
            "20/20 [==============================] - 0s 4ms/step - loss: 0.0524 - accuracy: 0.9414\n",
            "Epoch 86/100\n",
            "20/20 [==============================] - 0s 5ms/step - loss: 0.0569 - accuracy: 0.9320\n",
            "Epoch 87/100\n",
            "20/20 [==============================] - 0s 4ms/step - loss: 0.0496 - accuracy: 0.9414\n",
            "Epoch 88/100\n",
            "20/20 [==============================] - 0s 4ms/step - loss: 0.0504 - accuracy: 0.9414\n",
            "Epoch 89/100\n",
            "20/20 [==============================] - 0s 4ms/step - loss: 0.0490 - accuracy: 0.9437\n",
            "Epoch 90/100\n",
            "20/20 [==============================] - 0s 4ms/step - loss: 0.0411 - accuracy: 0.9539\n",
            "Epoch 91/100\n",
            "20/20 [==============================] - 0s 4ms/step - loss: 0.0430 - accuracy: 0.9484\n",
            "Epoch 92/100\n",
            "20/20 [==============================] - 0s 4ms/step - loss: 0.0417 - accuracy: 0.9523\n",
            "Epoch 93/100\n",
            "20/20 [==============================] - 0s 4ms/step - loss: 0.0441 - accuracy: 0.9492\n",
            "Epoch 94/100\n",
            "20/20 [==============================] - 0s 4ms/step - loss: 0.0504 - accuracy: 0.9429\n",
            "Epoch 95/100\n",
            "20/20 [==============================] - 0s 5ms/step - loss: 0.0457 - accuracy: 0.9476\n",
            "Epoch 96/100\n",
            "20/20 [==============================] - 0s 4ms/step - loss: 0.0483 - accuracy: 0.9429\n",
            "Epoch 97/100\n",
            "20/20 [==============================] - 0s 4ms/step - loss: 0.0404 - accuracy: 0.9531\n",
            "Epoch 98/100\n",
            "20/20 [==============================] - 0s 4ms/step - loss: 0.0345 - accuracy: 0.9617\n",
            "Epoch 99/100\n",
            "20/20 [==============================] - 0s 4ms/step - loss: 0.0411 - accuracy: 0.9500\n",
            "Epoch 100/100\n",
            "20/20 [==============================] - 0s 4ms/step - loss: 0.0393 - accuracy: 0.9515\n"
          ]
        }
      ]
    },
    {
      "cell_type": "code",
      "source": [
        "y_pred_3 = model3.predict(X_test) \n",
        "y_pred_3 = y_pred_3.round()"
      ],
      "metadata": {
        "id": "pWu-UkdJ1BYT",
        "outputId": "09951ff8-5c2a-4e15-b407-fa0c2252f78f",
        "colab": {
          "base_uri": "https://localhost:8080/"
        }
      },
      "execution_count": 397,
      "outputs": [
        {
          "output_type": "stream",
          "name": "stdout",
          "text": [
            "10/10 [==============================] - 0s 2ms/step\n"
          ]
        }
      ]
    },
    {
      "cell_type": "code",
      "source": [
        "import seaborn as sns\n",
        "from sklearn.metrics import confusion_matrix\n",
        "from sklearn.metrics import accuracy_score\n",
        "\n",
        "cm3 = confusion_matrix(Y_test, y_pred_3.round())\n",
        "sns.heatmap(cm3, annot=True, cmap=\"Blues\", fmt=\"d\", cbar=False)\n",
        "\n",
        "ac3 = accuracy_score(Y_test, y_pred_3.round())\n",
        "print('accuracy of the model: ', ac3)"
      ],
      "metadata": {
        "id": "Q_pGhtLj1Jn5",
        "outputId": "12771add-57f1-456d-9e52-565f8d92f62c",
        "colab": {
          "base_uri": "https://localhost:8080/",
          "height": 282
        }
      },
      "execution_count": 398,
      "outputs": [
        {
          "output_type": "stream",
          "name": "stdout",
          "text": [
            "accuracy of the model:  0.778125\n"
          ]
        },
        {
          "output_type": "display_data",
          "data": {
            "text/plain": [
              "<Figure size 432x288 with 1 Axes>"
            ],
            "image/png": "[encoded data removed]"
          },
          "metadata": {
            "needs_background": "light"
          }
        }
      ]
    },
    {
      "cell_type": "code",
      "source": [
        "import matplotlib.pyplot as plt\n",
        "plt.plot(history1.history['loss'])\n",
        "plt.plot(history2.history['loss'])\n",
        "plt.plot(history3.history['loss'])\n",
        "plt.title('model loss')\n",
        "plt.ylabel('loss')\n",
        "plt.xlabel('epoch')\n",
        "plt.legend(['train1','train2','train3'], loc='upper left')\n",
        "plt.show()"
      ],
      "metadata": {
        "id": "w6yFh-3m1MUy",
        "outputId": "56116e7d-47c8-4278-f28f-56b14a96b0ee",
        "colab": {
          "base_uri": "https://localhost:8080/",
          "height": 295
        }
      },
      "execution_count": 399,
      "outputs": [
        {
          "output_type": "display_data",
          "data": {
            "text/plain": [
              "<Figure size 432x288 with 1 Axes>"
            ],
            "image/png": "[encoded data removed]"
          },
          "metadata": {
            "needs_background": "light"
          }
        }
      ]
    },
    {
      "cell_type": "code",
      "source": [
        "xindex = ['First','Second', 'Third']\n",
        "yindex = [ac1,ac2,ac3]\n",
        "\n",
        "plot = plt.figure(figsize=(5,5))\n",
        "plt.scatter(xindex, yindex)\n",
        "plt.xlabel('Model')\n",
        "plt.ylabel('Accuracy')\n",
        "     "
      ],
      "metadata": {
        "id": "TN-wVlFt5t5j",
        "outputId": "53365781-4233-4e88-9077-1a9400e142a9",
        "colab": {
          "base_uri": "https://localhost:8080/",
          "height": 351
        }
      },
      "execution_count": 400,
      "outputs": [
        {
          "output_type": "execute_result",
          "data": {
            "text/plain": [
              "Text(0, 0.5, 'Accuracy')"
            ]
          },
          "metadata": {},
          "execution_count": 400
        },
        {
          "output_type": "display_data",
          "data": {
            "text/plain": [
              "<Figure size 360x360 with 1 Axes>"
            ],
            "image/png": "[encoded data removed]"
          },
          "metadata": {
            "needs_background": "light"
          }
        }
      ]
    },
    {
      "cell_type": "code",
      "source": [],
      "metadata": {
        "id": "px5OmxCh5zkI"
      },
      "execution_count": 400,
      "outputs": []
    }
  ]
}