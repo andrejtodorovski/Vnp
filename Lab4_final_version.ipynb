{
  "nbformat": 4,
  "nbformat_minor": 0,
  "metadata": {
    "colab": {
      "provenance": [],
      "include_colab_link": true
    },
    "kernelspec": {
      "name": "python3",
      "display_name": "Python 3"
    },
    "language_info": {
      "name": "python"
    }
  },
  "cells": [
    {
      "cell_type": "markdown",
      "metadata": {
        "id": "view-in-github",
        "colab_type": "text"
      },
      "source": [
        "<a href=\"https://colab.research.google.com/github/andrejtodorovski/Vnp/blob/main/Lab4_final_version.ipynb\" target=\"_parent\"><img src=\"https://colab.research.google.com/assets/colab-badge.svg\" alt=\"Open In Colab\"/></a>"
      ]
    },
    {
      "cell_type": "markdown",
      "source": [
        "<ul><font size = 5 color='Orange'>\n",
        "Learning Goals</font>\n",
        "<font color = 'Orange'>\n",
        "<ul>We are using the same dataset as the previous laboratory exercise, now you need to build Neural networks</ul>\n",
        "\n",
        "<li>Build three different networks with using:</li>\n",
        "different layers, activation functions, neurans per layers, number of layers\n",
        "<li>train your network and set the optimal number of epochs and batch size</li>\n",
        "<li>Evaluate the three networks on the same test dataset</li>\n",
        "<li>Compare the results</li>\n",
        "</ul>"
      ],
      "metadata": {
        "id": "wsPEypIyjSq-"
      }
    },
    {
      "cell_type": "markdown",
      "source": [
        "The Dataset for this exercise depends on your index number i.e number_of_data_set = index % 10:\n",
        "\n",
        "\n",
        "0.  https://www.kaggle.com/tunguz/us-elections-dataset\n",
        "1.  https://www.kaggle.com/andrewmvd/heart-failure-clinical-data\n",
        "2.  https://www.kaggle.com/sootersaalu/amazon-top-50-bestselling-books-2009-2019\n",
        "3.  https://www.kaggle.com/anmolkumar/health-insurance-cross-sell-prediction\n",
        "4.  https://www.kaggle.com/uciml/red-wine-quality-cortez-et-al-2009\n",
        "5.  https://www.kaggle.com/anmolkumar/house-price-prediction-challenge\n",
        "6.  https://www.kaggle.com/datasets/tadhgfitzgerald/fifa-international-soccer-mens-ranking-1993now\n",
        "7.  https://www.kaggle.com/arslanali4343/real-estate-dataset\n",
        "8.  https://www.kaggle.com/terenceshin/covid19s-impact-on-airport-traffic\n",
        "9.  https://www.kaggle.com/arslanali4343/top-personality-dataset\n",
        "\n",
        "\n",
        "\n",
        "\n",
        "\n"
      ],
      "metadata": {
        "id": "qO5SWztjhay0"
      }
    },
    {
      "cell_type": "code",
      "source": [
        "!gdown 1RBoVaZg97OJ5A2I4TQ3PDmwRJL8q5ySG\n"
      ],
      "metadata": {
        "colab": {
          "base_uri": "https://localhost:8080/"
        },
        "id": "Is1HVGNhNItg",
        "outputId": "062f6f51-0c15-4685-fd78-417f8705d8c7"
      },
      "execution_count": 250,
      "outputs": [
        {
          "output_type": "stream",
          "name": "stdout",
          "text": [
            "Downloading...\n",
            "From: https://drive.google.com/uc?id=1RBoVaZg97OJ5A2I4TQ3PDmwRJL8q5ySG\n",
            "To: /content/winequality-red.csv\n",
            "\r  0% 0.00/101k [00:00<?, ?B/s]\r100% 101k/101k [00:00<00:00, 71.2MB/s]\n"
          ]
        }
      ]
    },
    {
      "cell_type": "code",
      "source": [
        "import pandas as pd\n",
        "from sklearn.metrics import accuracy_score\n",
        "import numpy as np"
      ],
      "metadata": {
        "id": "WORtycj8iCA8"
      },
      "execution_count": 251,
      "outputs": []
    },
    {
      "cell_type": "code",
      "execution_count": 252,
      "metadata": {
        "id": "tNi3STyahTOf"
      },
      "outputs": [],
      "source": [
        "data1 = pd.read_csv('winequality-red.csv')"
      ]
    },
    {
      "cell_type": "code",
      "source": [
        "data1.head()\n"
      ],
      "metadata": {
        "colab": {
          "base_uri": "https://localhost:8080/",
          "height": 267
        },
        "id": "OQjXbS5KoUkp",
        "outputId": "c2bcace5-6fcc-4a74-fb2d-bb4dcfe5d21b"
      },
      "execution_count": 195,
      "outputs": [
        {
          "output_type": "execute_result",
          "data": {
            "text/plain": [
              "   fixed acidity  volatile acidity  citric acid  residual sugar  chlorides  \\\n",
              "0            7.4              0.70         0.00             1.9      0.076   \n",
              "1            7.8              0.88         0.00             2.6      0.098   \n",
              "2            7.8              0.76         0.04             2.3      0.092   \n",
              "3           11.2              0.28         0.56             1.9      0.075   \n",
              "4            7.4              0.70         0.00             1.9      0.076   \n",
              "\n",
              "   free sulfur dioxide  total sulfur dioxide  density    pH  sulphates  \\\n",
              "0                 11.0                  34.0   0.9978  3.51       0.56   \n",
              "1                 25.0                  67.0   0.9968  3.20       0.68   \n",
              "2                 15.0                  54.0   0.9970  3.26       0.65   \n",
              "3                 17.0                  60.0   0.9980  3.16       0.58   \n",
              "4                 11.0                  34.0   0.9978  3.51       0.56   \n",
              "\n",
              "   alcohol  quality  \n",
              "0      9.4        5  \n",
              "1      9.8        5  \n",
              "2      9.8        5  \n",
              "3      9.8        6  \n",
              "4      9.4        5  "
            ],
            "text/html": [
              "\n",
              "  <div id=\"df-c53e86d2-a4c0-4087-9907-05ad9d1e6576\">\n",
              "    <div class=\"colab-df-container\">\n",
              "      <div>\n",
              "<style scoped>\n",
              "    .dataframe tbody tr th:only-of-type {\n",
              "        vertical-align: middle;\n",
              "    }\n",
              "\n",
              "    .dataframe tbody tr th {\n",
              "        vertical-align: top;\n",
              "    }\n",
              "\n",
              "    .dataframe thead th {\n",
              "        text-align: right;\n",
              "    }\n",
              "</style>\n",
              "<table border=\"1\" class=\"dataframe\">\n",
              "  <thead>\n",
              "    <tr style=\"text-align: right;\">\n",
              "      <th></th>\n",
              "      <th>fixed acidity</th>\n",
              "      <th>volatile acidity</th>\n",
              "      <th>citric acid</th>\n",
              "      <th>residual sugar</th>\n",
              "      <th>chlorides</th>\n",
              "      <th>free sulfur dioxide</th>\n",
              "      <th>total sulfur dioxide</th>\n",
              "      <th>density</th>\n",
              "      <th>pH</th>\n",
              "      <th>sulphates</th>\n",
              "      <th>alcohol</th>\n",
              "      <th>quality</th>\n",
              "    </tr>\n",
              "  </thead>\n",
              "  <tbody>\n",
              "    <tr>\n",
              "      <th>0</th>\n",
              "      <td>7.4</td>\n",
              "      <td>0.70</td>\n",
              "      <td>0.00</td>\n",
              "      <td>1.9</td>\n",
              "      <td>0.076</td>\n",
              "      <td>11.0</td>\n",
              "      <td>34.0</td>\n",
              "      <td>0.9978</td>\n",
              "      <td>3.51</td>\n",
              "      <td>0.56</td>\n",
              "      <td>9.4</td>\n",
              "      <td>5</td>\n",
              "    </tr>\n",
              "    <tr>\n",
              "      <th>1</th>\n",
              "      <td>7.8</td>\n",
              "      <td>0.88</td>\n",
              "      <td>0.00</td>\n",
              "      <td>2.6</td>\n",
              "      <td>0.098</td>\n",
              "      <td>25.0</td>\n",
              "      <td>67.0</td>\n",
              "      <td>0.9968</td>\n",
              "      <td>3.20</td>\n",
              "      <td>0.68</td>\n",
              "      <td>9.8</td>\n",
              "      <td>5</td>\n",
              "    </tr>\n",
              "    <tr>\n",
              "      <th>2</th>\n",
              "      <td>7.8</td>\n",
              "      <td>0.76</td>\n",
              "      <td>0.04</td>\n",
              "      <td>2.3</td>\n",
              "      <td>0.092</td>\n",
              "      <td>15.0</td>\n",
              "      <td>54.0</td>\n",
              "      <td>0.9970</td>\n",
              "      <td>3.26</td>\n",
              "      <td>0.65</td>\n",
              "      <td>9.8</td>\n",
              "      <td>5</td>\n",
              "    </tr>\n",
              "    <tr>\n",
              "      <th>3</th>\n",
              "      <td>11.2</td>\n",
              "      <td>0.28</td>\n",
              "      <td>0.56</td>\n",
              "      <td>1.9</td>\n",
              "      <td>0.075</td>\n",
              "      <td>17.0</td>\n",
              "      <td>60.0</td>\n",
              "      <td>0.9980</td>\n",
              "      <td>3.16</td>\n",
              "      <td>0.58</td>\n",
              "      <td>9.8</td>\n",
              "      <td>6</td>\n",
              "    </tr>\n",
              "    <tr>\n",
              "      <th>4</th>\n",
              "      <td>7.4</td>\n",
              "      <td>0.70</td>\n",
              "      <td>0.00</td>\n",
              "      <td>1.9</td>\n",
              "      <td>0.076</td>\n",
              "      <td>11.0</td>\n",
              "      <td>34.0</td>\n",
              "      <td>0.9978</td>\n",
              "      <td>3.51</td>\n",
              "      <td>0.56</td>\n",
              "      <td>9.4</td>\n",
              "      <td>5</td>\n",
              "    </tr>\n",
              "  </tbody>\n",
              "</table>\n",
              "</div>\n",
              "      <button class=\"colab-df-convert\" onclick=\"convertToInteractive('df-c53e86d2-a4c0-4087-9907-05ad9d1e6576')\"\n",
              "              title=\"Convert this dataframe to an interactive table.\"\n",
              "              style=\"display:none;\">\n",
              "        \n",
              "  <svg xmlns=\"http://www.w3.org/2000/svg\" height=\"24px\"viewBox=\"0 0 24 24\"\n",
              "       width=\"24px\">\n",
              "    <path d=\"M0 0h24v24H0V0z\" fill=\"none\"/>\n",
              "    <path d=\"M18.56 5.44l.94 2.06.94-2.06 2.06-.94-2.06-.94-.94-2.06-.94 2.06-2.06.94zm-11 1L8.5 8.5l.94-2.06 2.06-.94-2.06-.94L8.5 2.5l-.94 2.06-2.06.94zm10 10l.94 2.06.94-2.06 2.06-.94-2.06-.94-.94-2.06-.94 2.06-2.06.94z\"/><path d=\"M17.41 7.96l-1.37-1.37c-.4-.4-.92-.59-1.43-.59-.52 0-1.04.2-1.43.59L10.3 9.45l-7.72 7.72c-.78.78-.78 2.05 0 2.83L4 21.41c.39.39.9.59 1.41.59.51 0 1.02-.2 1.41-.59l7.78-7.78 2.81-2.81c.8-.78.8-2.07 0-2.86zM5.41 20L4 18.59l7.72-7.72 1.47 1.35L5.41 20z\"/>\n",
              "  </svg>\n",
              "      </button>\n",
              "      \n",
              "  <style>\n",
              "    .colab-df-container {\n",
              "      display:flex;\n",
              "      flex-wrap:wrap;\n",
              "      gap: 12px;\n",
              "    }\n",
              "\n",
              "    .colab-df-convert {\n",
              "      background-color: #E8F0FE;\n",
              "      border: none;\n",
              "      border-radius: 50%;\n",
              "      cursor: pointer;\n",
              "      display: none;\n",
              "      fill: #1967D2;\n",
              "      height: 32px;\n",
              "      padding: 0 0 0 0;\n",
              "      width: 32px;\n",
              "    }\n",
              "\n",
              "    .colab-df-convert:hover {\n",
              "      background-color: #E2EBFA;\n",
              "      box-shadow: 0px 1px 2px rgba(60, 64, 67, 0.3), 0px 1px 3px 1px rgba(60, 64, 67, 0.15);\n",
              "      fill: #174EA6;\n",
              "    }\n",
              "\n",
              "    [theme=dark] .colab-df-convert {\n",
              "      background-color: #3B4455;\n",
              "      fill: #D2E3FC;\n",
              "    }\n",
              "\n",
              "    [theme=dark] .colab-df-convert:hover {\n",
              "      background-color: #434B5C;\n",
              "      box-shadow: 0px 1px 3px 1px rgba(0, 0, 0, 0.15);\n",
              "      filter: drop-shadow(0px 1px 2px rgba(0, 0, 0, 0.3));\n",
              "      fill: #FFFFFF;\n",
              "    }\n",
              "  </style>\n",
              "\n",
              "      <script>\n",
              "        const buttonEl =\n",
              "          document.querySelector('#df-c53e86d2-a4c0-4087-9907-05ad9d1e6576 button.colab-df-convert');\n",
              "        buttonEl.style.display =\n",
              "          google.colab.kernel.accessAllowed ? 'block' : 'none';\n",
              "\n",
              "        async function convertToInteractive(key) {\n",
              "          const element = document.querySelector('#df-c53e86d2-a4c0-4087-9907-05ad9d1e6576');\n",
              "          const dataTable =\n",
              "            await google.colab.kernel.invokeFunction('convertToInteractive',\n",
              "                                                     [key], {});\n",
              "          if (!dataTable) return;\n",
              "\n",
              "          const docLinkHtml = 'Like what you see? Visit the ' +\n",
              "            '<a target=\"_blank\" href=https://colab.research.google.com/notebooks/data_table.ipynb>data table notebook</a>'\n",
              "            + ' to learn more about interactive tables.';\n",
              "          element.innerHTML = '';\n",
              "          dataTable['output_type'] = 'display_data';\n",
              "          await google.colab.output.renderOutput(dataTable, element);\n",
              "          const docLink = document.createElement('div');\n",
              "          docLink.innerHTML = docLinkHtml;\n",
              "          element.appendChild(docLink);\n",
              "        }\n",
              "      </script>\n",
              "    </div>\n",
              "  </div>\n",
              "  "
            ]
          },
          "metadata": {},
          "execution_count": 195
        }
      ]
    },
    {
      "cell_type": "code",
      "source": [
        "data1.info()"
      ],
      "metadata": {
        "colab": {
          "base_uri": "https://localhost:8080/"
        },
        "id": "9VQmtyzIoXaE",
        "outputId": "50558ccb-aba6-4a39-ac4c-75db74598f2b"
      },
      "execution_count": 196,
      "outputs": [
        {
          "output_type": "stream",
          "name": "stdout",
          "text": [
            "<class 'pandas.core.frame.DataFrame'>\n",
            "RangeIndex: 1599 entries, 0 to 1598\n",
            "Data columns (total 12 columns):\n",
            " #   Column                Non-Null Count  Dtype  \n",
            "---  ------                --------------  -----  \n",
            " 0   fixed acidity         1599 non-null   float64\n",
            " 1   volatile acidity      1599 non-null   float64\n",
            " 2   citric acid           1599 non-null   float64\n",
            " 3   residual sugar        1599 non-null   float64\n",
            " 4   chlorides             1599 non-null   float64\n",
            " 5   free sulfur dioxide   1599 non-null   float64\n",
            " 6   total sulfur dioxide  1599 non-null   float64\n",
            " 7   density               1599 non-null   float64\n",
            " 8   pH                    1599 non-null   float64\n",
            " 9   sulphates             1599 non-null   float64\n",
            " 10  alcohol               1599 non-null   float64\n",
            " 11  quality               1599 non-null   int64  \n",
            "dtypes: float64(11), int64(1)\n",
            "memory usage: 150.0 KB\n"
          ]
        }
      ]
    },
    {
      "cell_type": "code",
      "source": [
        "data1.quality.value_counts()"
      ],
      "metadata": {
        "colab": {
          "base_uri": "https://localhost:8080/"
        },
        "id": "mK389P5VoYKb",
        "outputId": "2adb2c86-ae3e-41f9-f046-aef8c54546d2"
      },
      "execution_count": 197,
      "outputs": [
        {
          "output_type": "execute_result",
          "data": {
            "text/plain": [
              "5    681\n",
              "6    638\n",
              "7    199\n",
              "4     53\n",
              "8     18\n",
              "3     10\n",
              "Name: quality, dtype: int64"
            ]
          },
          "metadata": {},
          "execution_count": 197
        }
      ]
    },
    {
      "cell_type": "markdown",
      "source": [
        "Trying with multiclass target value"
      ],
      "metadata": {
        "id": "FWPvFnTeAzha"
      }
    },
    {
      "cell_type": "code",
      "source": [
        "X_1 = data1.drop('quality', axis = 1)\n",
        "Y_1 = data1['quality'] "
      ],
      "metadata": {
        "id": "eQuEX4a7A42V"
      },
      "execution_count": 198,
      "outputs": []
    },
    {
      "cell_type": "code",
      "source": [
        "from sklearn.model_selection import train_test_split\n",
        "X_train_1, X_test_1, Y_train_1, Y_test_1 = train_test_split(X_1, Y_1, test_size = 0.2, random_state = 0)"
      ],
      "metadata": {
        "id": "sHycUseFA5cL"
      },
      "execution_count": 199,
      "outputs": []
    },
    {
      "cell_type": "code",
      "source": [
        "from sklearn.preprocessing import StandardScaler\n",
        "\n",
        "sc = StandardScaler()\n",
        "\n",
        "X_train_1 = sc.fit_transform(X_train_1)\n",
        "X_test_1 = sc.transform(X_test_1)"
      ],
      "metadata": {
        "id": "MuROy5-7A6Us"
      },
      "execution_count": 200,
      "outputs": []
    },
    {
      "cell_type": "markdown",
      "source": [
        "First model"
      ],
      "metadata": {
        "id": "TZnEsZtSJCwV"
      }
    },
    {
      "cell_type": "code",
      "source": [
        "from keras.models import Sequential\n",
        "from keras.layers import Dense\n",
        "from keras.layers import Dropout\n",
        "from keras.utils import to_categorical\n",
        "\n",
        "first_model = Sequential()\n",
        "first_model.add(Dense(16, input_dim=11, activation='relu'))\n",
        "first_model.add(Dense(8, activation='relu'))\n",
        "first_model.add(Dense(8, activation='relu'))\n",
        "first_model.add(Dense(4, activation='relu'))\n",
        "first_model.add(Dense(9, activation='softmax'))\n",
        "first_model.compile(optimizer='adam', loss='categorical_crossentropy', metrics=['accuracy'])\n",
        "first_history = first_model.fit(X_train_1, to_categorical(Y_train_1), epochs=30, batch_size=16, validation_split=0.2)"
      ],
      "metadata": {
        "colab": {
          "base_uri": "https://localhost:8080/"
        },
        "id": "jHOS4vZFA6dH",
        "outputId": "dd3b8059-b108-43a4-b1c9-178856aae61f"
      },
      "execution_count": 201,
      "outputs": [
        {
          "output_type": "stream",
          "name": "stdout",
          "text": [
            "Epoch 1/30\n",
            "64/64 [==============================] - 1s 6ms/step - loss: 1.9980 - accuracy: 0.2630 - val_loss: 1.7656 - val_accuracy: 0.3906\n",
            "Epoch 2/30\n",
            "64/64 [==============================] - 0s 3ms/step - loss: 1.4633 - accuracy: 0.3754 - val_loss: 1.4026 - val_accuracy: 0.3711\n",
            "Epoch 3/30\n",
            "64/64 [==============================] - 0s 2ms/step - loss: 1.2826 - accuracy: 0.4115 - val_loss: 1.3386 - val_accuracy: 0.4023\n",
            "Epoch 4/30\n",
            "64/64 [==============================] - 0s 3ms/step - loss: 1.2380 - accuracy: 0.4330 - val_loss: 1.2975 - val_accuracy: 0.4023\n",
            "Epoch 5/30\n",
            "64/64 [==============================] - 0s 3ms/step - loss: 1.2097 - accuracy: 0.4330 - val_loss: 1.2697 - val_accuracy: 0.4023\n",
            "Epoch 6/30\n",
            "64/64 [==============================] - 0s 3ms/step - loss: 1.1880 - accuracy: 0.4330 - val_loss: 1.2499 - val_accuracy: 0.4023\n",
            "Epoch 7/30\n",
            "64/64 [==============================] - 0s 3ms/step - loss: 1.1716 - accuracy: 0.4330 - val_loss: 1.2256 - val_accuracy: 0.4023\n",
            "Epoch 8/30\n",
            "64/64 [==============================] - 0s 3ms/step - loss: 1.1569 - accuracy: 0.4330 - val_loss: 1.2042 - val_accuracy: 0.4102\n",
            "Epoch 9/30\n",
            "64/64 [==============================] - 0s 3ms/step - loss: 1.1423 - accuracy: 0.4633 - val_loss: 1.1872 - val_accuracy: 0.4258\n",
            "Epoch 10/30\n",
            "64/64 [==============================] - 0s 3ms/step - loss: 1.1259 - accuracy: 0.4731 - val_loss: 1.1636 - val_accuracy: 0.4609\n",
            "Epoch 11/30\n",
            "64/64 [==============================] - 0s 3ms/step - loss: 1.1106 - accuracy: 0.5308 - val_loss: 1.1405 - val_accuracy: 0.4727\n",
            "Epoch 12/30\n",
            "64/64 [==============================] - 0s 2ms/step - loss: 1.0909 - accuracy: 0.5279 - val_loss: 1.1086 - val_accuracy: 0.5117\n",
            "Epoch 13/30\n",
            "64/64 [==============================] - 0s 3ms/step - loss: 1.0635 - accuracy: 0.5562 - val_loss: 1.0747 - val_accuracy: 0.5156\n",
            "Epoch 14/30\n",
            "64/64 [==============================] - 0s 2ms/step - loss: 1.0353 - accuracy: 0.5611 - val_loss: 1.0406 - val_accuracy: 0.5586\n",
            "Epoch 15/30\n",
            "64/64 [==============================] - 0s 3ms/step - loss: 1.0131 - accuracy: 0.5533 - val_loss: 1.0077 - val_accuracy: 0.5508\n",
            "Epoch 16/30\n",
            "64/64 [==============================] - 0s 3ms/step - loss: 0.9909 - accuracy: 0.5689 - val_loss: 0.9854 - val_accuracy: 0.5312\n",
            "Epoch 17/30\n",
            "64/64 [==============================] - 0s 3ms/step - loss: 0.9746 - accuracy: 0.5758 - val_loss: 0.9678 - val_accuracy: 0.5859\n",
            "Epoch 18/30\n",
            "64/64 [==============================] - 0s 2ms/step - loss: 0.9619 - accuracy: 0.5846 - val_loss: 0.9627 - val_accuracy: 0.5625\n",
            "Epoch 19/30\n",
            "64/64 [==============================] - 0s 2ms/step - loss: 0.9501 - accuracy: 0.5973 - val_loss: 0.9515 - val_accuracy: 0.6055\n",
            "Epoch 20/30\n",
            "64/64 [==============================] - 0s 2ms/step - loss: 0.9402 - accuracy: 0.6012 - val_loss: 0.9468 - val_accuracy: 0.5820\n",
            "Epoch 21/30\n",
            "64/64 [==============================] - 0s 3ms/step - loss: 0.9338 - accuracy: 0.6041 - val_loss: 0.9438 - val_accuracy: 0.6172\n",
            "Epoch 22/30\n",
            "64/64 [==============================] - 0s 2ms/step - loss: 0.9238 - accuracy: 0.6031 - val_loss: 0.9411 - val_accuracy: 0.5820\n",
            "Epoch 23/30\n",
            "64/64 [==============================] - 0s 3ms/step - loss: 0.9176 - accuracy: 0.6012 - val_loss: 0.9423 - val_accuracy: 0.6055\n",
            "Epoch 24/30\n",
            "64/64 [==============================] - 0s 2ms/step - loss: 0.9113 - accuracy: 0.6070 - val_loss: 0.9384 - val_accuracy: 0.5977\n",
            "Epoch 25/30\n",
            "64/64 [==============================] - 0s 2ms/step - loss: 0.9073 - accuracy: 0.6119 - val_loss: 0.9430 - val_accuracy: 0.5977\n",
            "Epoch 26/30\n",
            "64/64 [==============================] - 0s 2ms/step - loss: 0.9051 - accuracy: 0.6080 - val_loss: 0.9463 - val_accuracy: 0.5977\n",
            "Epoch 27/30\n",
            "64/64 [==============================] - 0s 3ms/step - loss: 0.8999 - accuracy: 0.6090 - val_loss: 0.9481 - val_accuracy: 0.5898\n",
            "Epoch 28/30\n",
            "64/64 [==============================] - 0s 3ms/step - loss: 0.8948 - accuracy: 0.6168 - val_loss: 0.9449 - val_accuracy: 0.5938\n",
            "Epoch 29/30\n",
            "64/64 [==============================] - 0s 3ms/step - loss: 0.8906 - accuracy: 0.6119 - val_loss: 0.9472 - val_accuracy: 0.5898\n",
            "Epoch 30/30\n",
            "64/64 [==============================] - 0s 3ms/step - loss: 0.8878 - accuracy: 0.6197 - val_loss: 0.9499 - val_accuracy: 0.5820\n"
          ]
        }
      ]
    },
    {
      "cell_type": "code",
      "source": [
        "first_y_pred = first_model.predict(X_test_1) "
      ],
      "metadata": {
        "colab": {
          "base_uri": "https://localhost:8080/"
        },
        "id": "TjK4Et75A6kZ",
        "outputId": "afb6f1a3-9962-4bc9-df57-80975b894b72"
      },
      "execution_count": 202,
      "outputs": [
        {
          "output_type": "stream",
          "name": "stdout",
          "text": [
            "10/10 [==============================] - 0s 2ms/step\n"
          ]
        }
      ]
    },
    {
      "cell_type": "code",
      "source": [
        "true_y_pred = []\n",
        "for k in range(len(first_y_pred)):\n",
        "  mk = max(first_y_pred[k])\n",
        "  for n in range(len(first_y_pred[k])):\n",
        "    if first_y_pred[k][n]==mk:\n",
        "      true_y_pred.append(n)"
      ],
      "metadata": {
        "id": "-40QlVloD6KA"
      },
      "execution_count": 203,
      "outputs": []
    },
    {
      "cell_type": "code",
      "source": [
        "from sklearn.metrics import r2_score\n",
        "r2_1 = r2_score(Y_test_1,true_y_pred)\n",
        "print(\"r_square score: \", r2_score(Y_test_1,true_y_pred))"
      ],
      "metadata": {
        "colab": {
          "base_uri": "https://localhost:8080/"
        },
        "id": "AHLG9exsDmQt",
        "outputId": "fefcb58f-7141-4e56-ba5e-e1cfdcc97019"
      },
      "execution_count": 204,
      "outputs": [
        {
          "output_type": "stream",
          "name": "stdout",
          "text": [
            "r_square score:  0.17024906175366772\n"
          ]
        }
      ]
    },
    {
      "cell_type": "code",
      "source": [
        "acc1 = accuracy_score(Y_test_1, true_y_pred)\n",
        "acc1"
      ],
      "metadata": {
        "colab": {
          "base_uri": "https://localhost:8080/"
        },
        "id": "CE_-WyVEMCTR",
        "outputId": "1c855e90-ede6-4d17-c713-9ba1f27dc3c1"
      },
      "execution_count": 205,
      "outputs": [
        {
          "output_type": "execute_result",
          "data": {
            "text/plain": [
              "0.61875"
            ]
          },
          "metadata": {},
          "execution_count": 205
        }
      ]
    },
    {
      "cell_type": "code",
      "source": [
        "import matplotlib.pyplot as plt\n",
        "plt.plot(first_history.history['loss'])\n",
        "plt.plot(first_history.history['val_loss'])\n",
        "plt.title('model loss')\n",
        "plt.ylabel('loss')\n",
        "plt.xlabel('epoch')\n",
        "plt.legend(['train1','val1'], loc='upper left')\n",
        "plt.show()"
      ],
      "metadata": {
        "colab": {
          "base_uri": "https://localhost:8080/",
          "height": 295
        },
        "id": "DXYUpdc7Hwcn",
        "outputId": "75b1746b-e106-4971-a6ca-0d9470e5c6d4"
      },
      "execution_count": 206,
      "outputs": [
        {
          "output_type": "display_data",
          "data": {
            "text/plain": [
              "<Figure size 432x288 with 1 Axes>"
            ],
            "image/png": "[encoded data removed]"
          },
          "metadata": {
            "needs_background": "light"
          }
        }
      ]
    },
    {
      "cell_type": "markdown",
      "source": [
        "Second model"
      ],
      "metadata": {
        "id": "0smDwM8mJANE"
      }
    },
    {
      "cell_type": "code",
      "source": [
        "from keras.models import Sequential\n",
        "from keras.layers import Dense\n",
        "from keras.layers import Dropout\n",
        "from keras.utils import to_categorical\n",
        "\n",
        "second_model = Sequential()\n",
        "second_model.add(Dense(256, input_dim=11, activation='relu'))\n",
        "second_model.add(Dropout(0.1, input_shape=(256,)))\n",
        "second_model.add(Dense(128, activation='relu'))\n",
        "second_model.add(Dropout(0.1, input_shape=(128,)))\n",
        "second_model.add(Dense(64, activation='relu'))\n",
        "second_model.add(Dropout(0.1, input_shape=(64,)))\n",
        "second_model.add(Dense(32, activation='relu'))\n",
        "second_model.add(Dropout(0.1, input_shape=(32,)))\n",
        "second_model.add(Dense(16, activation='relu'))\n",
        "second_model.add(Dropout(0.1, input_shape=(16,)))\n",
        "second_model.add(Dense(8, activation='relu'))\n",
        "second_model.add(Dropout(0.1, input_shape=(8,)))\n",
        "second_model.add(Dense(9, activation='softmax'))\n",
        "second_model.compile(optimizer='adam', loss='categorical_crossentropy', metrics=['accuracy'])\n",
        "second_history = second_model.fit(X_train_1, to_categorical(Y_train_1), epochs=30, batch_size=16, validation_split=0.2)"
      ],
      "metadata": {
        "colab": {
          "base_uri": "https://localhost:8080/"
        },
        "id": "4fYEnSVnI_yi",
        "outputId": "89114c81-fd9f-4231-de70-8bfd49ac5066"
      },
      "execution_count": 207,
      "outputs": [
        {
          "output_type": "stream",
          "name": "stdout",
          "text": [
            "Epoch 1/30\n",
            "64/64 [==============================] - 1s 7ms/step - loss: 1.9867 - accuracy: 0.3666 - val_loss: 1.7471 - val_accuracy: 0.4297\n",
            "Epoch 2/30\n",
            "64/64 [==============================] - 0s 4ms/step - loss: 1.5091 - accuracy: 0.4692 - val_loss: 1.1340 - val_accuracy: 0.5508\n",
            "Epoch 3/30\n",
            "64/64 [==============================] - 0s 4ms/step - loss: 1.2728 - accuracy: 0.5152 - val_loss: 1.0782 - val_accuracy: 0.5938\n",
            "Epoch 4/30\n",
            "64/64 [==============================] - 0s 5ms/step - loss: 1.2097 - accuracy: 0.5347 - val_loss: 1.0666 - val_accuracy: 0.5898\n",
            "Epoch 5/30\n",
            "64/64 [==============================] - 0s 4ms/step - loss: 1.1558 - accuracy: 0.5386 - val_loss: 1.0343 - val_accuracy: 0.5977\n",
            "Epoch 6/30\n",
            "64/64 [==============================] - 0s 4ms/step - loss: 1.1266 - accuracy: 0.5621 - val_loss: 0.9979 - val_accuracy: 0.5742\n",
            "Epoch 7/30\n",
            "64/64 [==============================] - 0s 5ms/step - loss: 1.0814 - accuracy: 0.5640 - val_loss: 0.9646 - val_accuracy: 0.6172\n",
            "Epoch 8/30\n",
            "64/64 [==============================] - 0s 5ms/step - loss: 1.0515 - accuracy: 0.5728 - val_loss: 0.9906 - val_accuracy: 0.5820\n",
            "Epoch 9/30\n",
            "64/64 [==============================] - 0s 4ms/step - loss: 1.0271 - accuracy: 0.5816 - val_loss: 0.9810 - val_accuracy: 0.5859\n",
            "Epoch 10/30\n",
            "64/64 [==============================] - 0s 4ms/step - loss: 1.0012 - accuracy: 0.5728 - val_loss: 0.9308 - val_accuracy: 0.5898\n",
            "Epoch 11/30\n",
            "64/64 [==============================] - 0s 4ms/step - loss: 0.9810 - accuracy: 0.6041 - val_loss: 0.9484 - val_accuracy: 0.5977\n",
            "Epoch 12/30\n",
            "64/64 [==============================] - 0s 4ms/step - loss: 0.9941 - accuracy: 0.5904 - val_loss: 0.9449 - val_accuracy: 0.6016\n",
            "Epoch 13/30\n",
            "64/64 [==============================] - 0s 4ms/step - loss: 0.9690 - accuracy: 0.6139 - val_loss: 0.9331 - val_accuracy: 0.6250\n",
            "Epoch 14/30\n",
            "64/64 [==============================] - 0s 5ms/step - loss: 0.9311 - accuracy: 0.6207 - val_loss: 0.9454 - val_accuracy: 0.5781\n",
            "Epoch 15/30\n",
            "64/64 [==============================] - 0s 4ms/step - loss: 0.9292 - accuracy: 0.6188 - val_loss: 0.9094 - val_accuracy: 0.5938\n",
            "Epoch 16/30\n",
            "64/64 [==============================] - 0s 4ms/step - loss: 0.9249 - accuracy: 0.6051 - val_loss: 0.9358 - val_accuracy: 0.5586\n",
            "Epoch 17/30\n",
            "64/64 [==============================] - 0s 4ms/step - loss: 0.9223 - accuracy: 0.6256 - val_loss: 0.9337 - val_accuracy: 0.6016\n",
            "Epoch 18/30\n",
            "64/64 [==============================] - 0s 5ms/step - loss: 0.8960 - accuracy: 0.6256 - val_loss: 0.9626 - val_accuracy: 0.6016\n",
            "Epoch 19/30\n",
            "64/64 [==============================] - 0s 4ms/step - loss: 0.8919 - accuracy: 0.6383 - val_loss: 0.9293 - val_accuracy: 0.6016\n",
            "Epoch 20/30\n",
            "64/64 [==============================] - 0s 4ms/step - loss: 0.8578 - accuracy: 0.6364 - val_loss: 0.9311 - val_accuracy: 0.6055\n",
            "Epoch 21/30\n",
            "64/64 [==============================] - 0s 4ms/step - loss: 0.8659 - accuracy: 0.6354 - val_loss: 0.9708 - val_accuracy: 0.5703\n",
            "Epoch 22/30\n",
            "64/64 [==============================] - 0s 5ms/step - loss: 0.8651 - accuracy: 0.6530 - val_loss: 0.9299 - val_accuracy: 0.5938\n",
            "Epoch 23/30\n",
            "64/64 [==============================] - 0s 4ms/step - loss: 0.8377 - accuracy: 0.6667 - val_loss: 0.9708 - val_accuracy: 0.5898\n",
            "Epoch 24/30\n",
            "64/64 [==============================] - 0s 4ms/step - loss: 0.8239 - accuracy: 0.6667 - val_loss: 0.9249 - val_accuracy: 0.5898\n",
            "Epoch 25/30\n",
            "64/64 [==============================] - 0s 4ms/step - loss: 0.8399 - accuracy: 0.6725 - val_loss: 0.9532 - val_accuracy: 0.6016\n",
            "Epoch 26/30\n",
            "64/64 [==============================] - 0s 4ms/step - loss: 0.8071 - accuracy: 0.6520 - val_loss: 0.9464 - val_accuracy: 0.5898\n",
            "Epoch 27/30\n",
            "64/64 [==============================] - 0s 4ms/step - loss: 0.7871 - accuracy: 0.6784 - val_loss: 1.0082 - val_accuracy: 0.5977\n",
            "Epoch 28/30\n",
            "64/64 [==============================] - 0s 4ms/step - loss: 0.7769 - accuracy: 0.6911 - val_loss: 0.9680 - val_accuracy: 0.6016\n",
            "Epoch 29/30\n",
            "64/64 [==============================] - 0s 4ms/step - loss: 0.7906 - accuracy: 0.6989 - val_loss: 0.9738 - val_accuracy: 0.6016\n",
            "Epoch 30/30\n",
            "64/64 [==============================] - 0s 4ms/step - loss: 0.7633 - accuracy: 0.6872 - val_loss: 0.9418 - val_accuracy: 0.6055\n"
          ]
        }
      ]
    },
    {
      "cell_type": "code",
      "source": [
        "second_y_pred = second_model.predict(X_test_1) "
      ],
      "metadata": {
        "colab": {
          "base_uri": "https://localhost:8080/"
        },
        "id": "LHoB1lT4JIKH",
        "outputId": "0dcb2ec6-f04d-407b-aaf3-07cfdcfeee4a"
      },
      "execution_count": 208,
      "outputs": [
        {
          "output_type": "stream",
          "name": "stdout",
          "text": [
            "10/10 [==============================] - 0s 2ms/step\n"
          ]
        }
      ]
    },
    {
      "cell_type": "code",
      "source": [
        "true_y_pred_2 = []\n",
        "for k in range(len(second_y_pred)):\n",
        "  mk = max(second_y_pred[k])\n",
        "  for n in range(len(second_y_pred[k])):\n",
        "    if second_y_pred[k][n]==mk:\n",
        "      true_y_pred_2.append(n)"
      ],
      "metadata": {
        "id": "hfp3rbU1JI_v"
      },
      "execution_count": 209,
      "outputs": []
    },
    {
      "cell_type": "code",
      "source": [
        "from sklearn.metrics import r2_score\n",
        "r2_2 = r2_score(Y_test_1,true_y_pred_2)\n",
        "print(\"r_square score: \", r2_score(Y_test_1,true_y_pred_2))"
      ],
      "metadata": {
        "colab": {
          "base_uri": "https://localhost:8080/"
        },
        "id": "j-xJ5fWmJJvz",
        "outputId": "1c9dfa6c-1cb6-41bd-d876-cb8a103eacf8"
      },
      "execution_count": 210,
      "outputs": [
        {
          "output_type": "stream",
          "name": "stdout",
          "text": [
            "r_square score:  -0.03718867280791538\n"
          ]
        }
      ]
    },
    {
      "cell_type": "code",
      "source": [
        "acc2 = accuracy_score(Y_test_1, true_y_pred_2)\n",
        "acc2"
      ],
      "metadata": {
        "colab": {
          "base_uri": "https://localhost:8080/"
        },
        "id": "e9XHDRkyMF7S",
        "outputId": "a37d9a3e-ad16-4fa3-ba30-996203549577"
      },
      "execution_count": 211,
      "outputs": [
        {
          "output_type": "execute_result",
          "data": {
            "text/plain": [
              "0.603125"
            ]
          },
          "metadata": {},
          "execution_count": 211
        }
      ]
    },
    {
      "cell_type": "code",
      "source": [
        "import matplotlib.pyplot as plt\n",
        "plt.plot(second_history.history['loss'])\n",
        "plt.plot(second_history.history['val_loss'])\n",
        "plt.title('model loss')\n",
        "plt.ylabel('loss')\n",
        "plt.xlabel('epoch')\n",
        "plt.legend(['train2','val2'], loc='upper left')\n",
        "plt.show()"
      ],
      "metadata": {
        "colab": {
          "base_uri": "https://localhost:8080/",
          "height": 295
        },
        "id": "2KhT7reaJZOl",
        "outputId": "4cc27eb1-7097-4940-88c0-ba031064fef7"
      },
      "execution_count": 212,
      "outputs": [
        {
          "output_type": "display_data",
          "data": {
            "text/plain": [
              "<Figure size 432x288 with 1 Axes>"
            ],
            "image/png": "[encoded data removed]"
          },
          "metadata": {
            "needs_background": "light"
          }
        }
      ]
    },
    {
      "cell_type": "markdown",
      "source": [
        "Third model"
      ],
      "metadata": {
        "id": "-7AQL6NDJ-Ga"
      }
    },
    {
      "cell_type": "code",
      "source": [
        "from keras.models import Sequential\n",
        "from keras.layers import Dense\n",
        "from keras.layers import Dropout\n",
        "from keras.utils import to_categorical\n",
        "\n",
        "third_model = Sequential()\n",
        "third_model.add(Dense(256, kernel_initializer='uniform', activation='relu', input_dim=11))\n",
        "third_model.add(Dropout(0.1, input_shape=(256,)))\n",
        "third_model.add(Dense(64, kernel_initializer='uniform', activation='relu'))\n",
        "third_model.add(Dense(128, kernel_initializer='uniform', activation='relu'))\n",
        "third_model.add(Dense(128, kernel_initializer='uniform', activation='relu'))\n",
        "third_model.add(Dense(128, kernel_initializer='uniform', activation='relu'))\n",
        "third_model.add(Dense(9,activation='softmax'))\n",
        "third_model.compile(optimizer='adam', loss='categorical_crossentropy', metrics=['accuracy'])\n",
        "third_history = third_model.fit(X_train_1, to_categorical(Y_train_1), epochs=30, batch_size=16, validation_split=0.2)"
      ],
      "metadata": {
        "colab": {
          "base_uri": "https://localhost:8080/"
        },
        "id": "Wrk_hcFKJ-_I",
        "outputId": "8a402c58-ea25-4603-c6f0-0201aafc5d82"
      },
      "execution_count": 213,
      "outputs": [
        {
          "output_type": "stream",
          "name": "stdout",
          "text": [
            "Epoch 1/30\n",
            "64/64 [==============================] - 1s 7ms/step - loss: 1.5294 - accuracy: 0.4066 - val_loss: 1.1981 - val_accuracy: 0.4023\n",
            "Epoch 2/30\n",
            "64/64 [==============================] - 0s 4ms/step - loss: 1.1640 - accuracy: 0.4350 - val_loss: 1.1379 - val_accuracy: 0.4102\n",
            "Epoch 3/30\n",
            "64/64 [==============================] - 0s 4ms/step - loss: 1.1341 - accuracy: 0.4790 - val_loss: 1.1065 - val_accuracy: 0.5117\n",
            "Epoch 4/30\n",
            "64/64 [==============================] - 0s 4ms/step - loss: 1.1008 - accuracy: 0.5200 - val_loss: 1.0483 - val_accuracy: 0.5586\n",
            "Epoch 5/30\n",
            "64/64 [==============================] - 0s 4ms/step - loss: 1.0191 - accuracy: 0.5523 - val_loss: 0.9581 - val_accuracy: 0.6016\n",
            "Epoch 6/30\n",
            "64/64 [==============================] - 0s 5ms/step - loss: 0.9783 - accuracy: 0.5709 - val_loss: 0.9737 - val_accuracy: 0.5469\n",
            "Epoch 7/30\n",
            "64/64 [==============================] - 0s 4ms/step - loss: 0.9679 - accuracy: 0.5806 - val_loss: 0.9154 - val_accuracy: 0.6055\n",
            "Epoch 8/30\n",
            "64/64 [==============================] - 0s 4ms/step - loss: 0.9415 - accuracy: 0.5934 - val_loss: 0.9257 - val_accuracy: 0.5625\n",
            "Epoch 9/30\n",
            "64/64 [==============================] - 0s 4ms/step - loss: 0.9327 - accuracy: 0.6080 - val_loss: 0.9330 - val_accuracy: 0.5898\n",
            "Epoch 10/30\n",
            "64/64 [==============================] - 0s 5ms/step - loss: 0.9259 - accuracy: 0.6051 - val_loss: 0.9580 - val_accuracy: 0.5352\n",
            "Epoch 11/30\n",
            "64/64 [==============================] - 0s 5ms/step - loss: 0.9267 - accuracy: 0.5846 - val_loss: 0.9172 - val_accuracy: 0.6016\n",
            "Epoch 12/30\n",
            "64/64 [==============================] - 0s 4ms/step - loss: 0.9062 - accuracy: 0.5963 - val_loss: 0.9505 - val_accuracy: 0.6016\n",
            "Epoch 13/30\n",
            "64/64 [==============================] - 0s 4ms/step - loss: 0.9035 - accuracy: 0.6061 - val_loss: 0.9423 - val_accuracy: 0.6133\n",
            "Epoch 14/30\n",
            "64/64 [==============================] - 0s 4ms/step - loss: 0.8773 - accuracy: 0.6158 - val_loss: 0.9416 - val_accuracy: 0.5781\n",
            "Epoch 15/30\n",
            "64/64 [==============================] - 0s 4ms/step - loss: 0.8774 - accuracy: 0.6325 - val_loss: 0.9348 - val_accuracy: 0.5703\n",
            "Epoch 16/30\n",
            "64/64 [==============================] - 0s 4ms/step - loss: 0.8608 - accuracy: 0.6188 - val_loss: 0.9683 - val_accuracy: 0.5859\n",
            "Epoch 17/30\n",
            "64/64 [==============================] - 0s 4ms/step - loss: 0.8519 - accuracy: 0.6383 - val_loss: 0.9563 - val_accuracy: 0.6055\n",
            "Epoch 18/30\n",
            "64/64 [==============================] - 0s 4ms/step - loss: 0.8467 - accuracy: 0.6315 - val_loss: 0.9527 - val_accuracy: 0.5898\n",
            "Epoch 19/30\n",
            "64/64 [==============================] - 0s 5ms/step - loss: 0.8246 - accuracy: 0.6530 - val_loss: 0.9892 - val_accuracy: 0.5859\n",
            "Epoch 20/30\n",
            "64/64 [==============================] - 0s 5ms/step - loss: 0.8390 - accuracy: 0.6432 - val_loss: 0.9702 - val_accuracy: 0.5703\n",
            "Epoch 21/30\n",
            "64/64 [==============================] - 0s 4ms/step - loss: 0.8154 - accuracy: 0.6452 - val_loss: 0.9551 - val_accuracy: 0.5664\n",
            "Epoch 22/30\n",
            "64/64 [==============================] - 0s 4ms/step - loss: 0.8046 - accuracy: 0.6530 - val_loss: 0.9780 - val_accuracy: 0.6055\n",
            "Epoch 23/30\n",
            "64/64 [==============================] - 0s 4ms/step - loss: 0.7966 - accuracy: 0.6422 - val_loss: 0.9979 - val_accuracy: 0.5703\n",
            "Epoch 24/30\n",
            "64/64 [==============================] - 0s 4ms/step - loss: 0.7905 - accuracy: 0.6667 - val_loss: 0.9970 - val_accuracy: 0.5664\n",
            "Epoch 25/30\n",
            "64/64 [==============================] - 0s 5ms/step - loss: 0.7733 - accuracy: 0.6764 - val_loss: 0.9970 - val_accuracy: 0.5820\n",
            "Epoch 26/30\n",
            "64/64 [==============================] - 0s 4ms/step - loss: 0.7602 - accuracy: 0.6843 - val_loss: 1.0160 - val_accuracy: 0.5625\n",
            "Epoch 27/30\n",
            "64/64 [==============================] - 0s 4ms/step - loss: 0.7759 - accuracy: 0.6676 - val_loss: 1.0726 - val_accuracy: 0.5547\n",
            "Epoch 28/30\n",
            "64/64 [==============================] - 0s 3ms/step - loss: 0.7705 - accuracy: 0.6657 - val_loss: 1.0135 - val_accuracy: 0.5820\n",
            "Epoch 29/30\n",
            "64/64 [==============================] - 0s 4ms/step - loss: 0.7337 - accuracy: 0.6862 - val_loss: 1.0950 - val_accuracy: 0.5898\n",
            "Epoch 30/30\n",
            "64/64 [==============================] - 0s 4ms/step - loss: 0.7241 - accuracy: 0.6931 - val_loss: 1.0595 - val_accuracy: 0.5898\n"
          ]
        }
      ]
    },
    {
      "cell_type": "code",
      "source": [
        "third_y_pred = third_model.predict(X_test_1) \n"
      ],
      "metadata": {
        "colab": {
          "base_uri": "https://localhost:8080/"
        },
        "id": "uplfW2jvKBlO",
        "outputId": "8fff97e1-9d83-4667-d711-bc2bc7006a42"
      },
      "execution_count": 214,
      "outputs": [
        {
          "output_type": "stream",
          "name": "stdout",
          "text": [
            "10/10 [==============================] - 0s 2ms/step\n"
          ]
        }
      ]
    },
    {
      "cell_type": "code",
      "source": [
        "true_y_pred_3 = []\n",
        "for k in range(len(third_y_pred)):\n",
        "  mk = max(third_y_pred[k])\n",
        "  for n in range(len(third_y_pred[k])):\n",
        "    if third_y_pred[k][n]==mk:\n",
        "      true_y_pred_3.append(n)"
      ],
      "metadata": {
        "id": "IBIhH0VlKDee"
      },
      "execution_count": 215,
      "outputs": []
    },
    {
      "cell_type": "code",
      "source": [
        "from sklearn.metrics import r2_score\n",
        "r2_3 = r2_score(Y_test_1,true_y_pred_3)\n",
        "print(\"r_square score: \", r2_score(Y_test_1,true_y_pred_3))"
      ],
      "metadata": {
        "colab": {
          "base_uri": "https://localhost:8080/"
        },
        "id": "tpUdtvx-Ketg",
        "outputId": "52745cb4-2e40-4eb5-9e87-a2074c64fc22"
      },
      "execution_count": 216,
      "outputs": [
        {
          "output_type": "stream",
          "name": "stdout",
          "text": [
            "r_square score:  0.1429546229955646\n"
          ]
        }
      ]
    },
    {
      "cell_type": "code",
      "source": [
        "acc3 = accuracy_score(Y_test_1, true_y_pred_3)\n",
        "acc3"
      ],
      "metadata": {
        "colab": {
          "base_uri": "https://localhost:8080/"
        },
        "id": "RxsiO-bUMM89",
        "outputId": "ee8ef5d1-4920-4dce-c828-37715c90ec8b"
      },
      "execution_count": 217,
      "outputs": [
        {
          "output_type": "execute_result",
          "data": {
            "text/plain": [
              "0.6625"
            ]
          },
          "metadata": {},
          "execution_count": 217
        }
      ]
    },
    {
      "cell_type": "code",
      "source": [
        "import matplotlib.pyplot as plt\n",
        "plt.plot(third_history.history['loss'])\n",
        "plt.plot(third_history.history['val_loss'])\n",
        "plt.title('model loss')\n",
        "plt.ylabel('loss')\n",
        "plt.xlabel('epoch')\n",
        "plt.legend(['train3','val13'], loc='upper left')\n",
        "plt.show()"
      ],
      "metadata": {
        "colab": {
          "base_uri": "https://localhost:8080/",
          "height": 295
        },
        "id": "dFzQ6sf5KAWD",
        "outputId": "735d64f1-58ec-468c-b6b7-e5fe4344bef5"
      },
      "execution_count": 218,
      "outputs": [
        {
          "output_type": "display_data",
          "data": {
            "text/plain": [
              "<Figure size 432x288 with 1 Axes>"
            ],
            "image/png": "[encoded data removed]"
          },
          "metadata": {
            "needs_background": "light"
          }
        }
      ]
    },
    {
      "cell_type": "code",
      "source": [
        "xindex = ['First','Second', 'Third']\n",
        "yindex = [acc1,acc2,acc3]\n",
        "\n",
        "plot = plt.figure(figsize=(5,5))\n",
        "plt.scatter(xindex, yindex)\n",
        "plt.xlabel('Model')\n",
        "plt.ylabel('Accuracy')"
      ],
      "metadata": {
        "colab": {
          "base_uri": "https://localhost:8080/",
          "height": 351
        },
        "id": "2ewdl6tWKwBV",
        "outputId": "f7598ca5-6237-480f-cd9b-18a72642b2c4"
      },
      "execution_count": 219,
      "outputs": [
        {
          "output_type": "execute_result",
          "data": {
            "text/plain": [
              "Text(0, 0.5, 'Accuracy')"
            ]
          },
          "metadata": {},
          "execution_count": 219
        },
        {
          "output_type": "display_data",
          "data": {
            "text/plain": [
              "<Figure size 360x360 with 1 Axes>"
            ],
            "image/png": "[encoded data removed]"
          },
          "metadata": {
            "needs_background": "light"
          }
        }
      ]
    },
    {
      "cell_type": "markdown",
      "source": [
        "Trying with binary target value"
      ],
      "metadata": {
        "id": "E2XJ5khBBNnr"
      }
    },
    {
      "cell_type": "code",
      "source": [
        "data2 = pd.read_csv('/content/sample_data/winequality-red.csv')"
      ],
      "metadata": {
        "id": "AQSKhTcTBf7R"
      },
      "execution_count": 220,
      "outputs": []
    },
    {
      "cell_type": "code",
      "source": [
        "quality = []\n",
        "for i in data2['quality']:\n",
        "    if i >= 1 and i <= 5:\n",
        "        quality.append('bad')\n",
        "    elif i >= 6 and i <= 9:\n",
        "        quality.append('good')\n",
        "data2.drop(['quality'],axis=1)\n",
        "data2['quality'] = quality"
      ],
      "metadata": {
        "id": "m2ZPUaSfBRpJ"
      },
      "execution_count": 221,
      "outputs": []
    },
    {
      "cell_type": "code",
      "source": [
        "data2.info()"
      ],
      "metadata": {
        "colab": {
          "base_uri": "https://localhost:8080/"
        },
        "id": "uR2V41_iBjkb",
        "outputId": "704feb49-b5f6-47fe-f508-e90946456164"
      },
      "execution_count": 222,
      "outputs": [
        {
          "output_type": "stream",
          "name": "stdout",
          "text": [
            "<class 'pandas.core.frame.DataFrame'>\n",
            "RangeIndex: 1599 entries, 0 to 1598\n",
            "Data columns (total 12 columns):\n",
            " #   Column                Non-Null Count  Dtype  \n",
            "---  ------                --------------  -----  \n",
            " 0   fixed acidity         1599 non-null   float64\n",
            " 1   volatile acidity      1599 non-null   float64\n",
            " 2   citric acid           1599 non-null   float64\n",
            " 3   residual sugar        1599 non-null   float64\n",
            " 4   chlorides             1599 non-null   float64\n",
            " 5   free sulfur dioxide   1599 non-null   float64\n",
            " 6   total sulfur dioxide  1599 non-null   float64\n",
            " 7   density               1599 non-null   float64\n",
            " 8   pH                    1599 non-null   float64\n",
            " 9   sulphates             1599 non-null   float64\n",
            " 10  alcohol               1599 non-null   float64\n",
            " 11  quality               1599 non-null   object \n",
            "dtypes: float64(11), object(1)\n",
            "memory usage: 150.0+ KB\n"
          ]
        }
      ]
    },
    {
      "cell_type": "code",
      "source": [
        "data2.quality.value_counts()"
      ],
      "metadata": {
        "colab": {
          "base_uri": "https://localhost:8080/"
        },
        "id": "T-PCxhW4Bm9T",
        "outputId": "3303c676-a90a-495b-9852-d353450f552c"
      },
      "execution_count": 223,
      "outputs": [
        {
          "output_type": "execute_result",
          "data": {
            "text/plain": [
              "good    855\n",
              "bad     744\n",
              "Name: quality, dtype: int64"
            ]
          },
          "metadata": {},
          "execution_count": 223
        }
      ]
    },
    {
      "cell_type": "markdown",
      "source": [
        "Encoding the target value and scaling everything"
      ],
      "metadata": {
        "id": "gxqnHh56wII2"
      }
    },
    {
      "cell_type": "code",
      "source": [
        "from sklearn.preprocessing import StandardScaler, LabelEncoder\n"
      ],
      "metadata": {
        "id": "4SGwfJ5kqx55"
      },
      "execution_count": 224,
      "outputs": []
    },
    {
      "cell_type": "code",
      "source": [
        "encoder = LabelEncoder()\n",
        "data2['quality'] = encoder.fit_transform(data2['quality'])\n"
      ],
      "metadata": {
        "id": "Yx0ZcdHUqzPu"
      },
      "execution_count": 225,
      "outputs": []
    },
    {
      "cell_type": "code",
      "source": [
        "data2.quality.value_counts()"
      ],
      "metadata": {
        "colab": {
          "base_uri": "https://localhost:8080/"
        },
        "id": "GBzDzA2sq4qQ",
        "outputId": "7ca0992a-7ca8-41c3-aeaa-70098d63d7c9"
      },
      "execution_count": 226,
      "outputs": [
        {
          "output_type": "execute_result",
          "data": {
            "text/plain": [
              "1    855\n",
              "0    744\n",
              "Name: quality, dtype: int64"
            ]
          },
          "metadata": {},
          "execution_count": 226
        }
      ]
    },
    {
      "cell_type": "code",
      "source": [
        "X_2 = data2.drop('quality', axis = 1)\n",
        "Y_2 = data2['quality']"
      ],
      "metadata": {
        "id": "7HTQCVKqrChP"
      },
      "execution_count": 227,
      "outputs": []
    },
    {
      "cell_type": "code",
      "source": [
        "from sklearn.model_selection import train_test_split\n",
        "X_train_2, X_test_2, Y_train_2, Y_test_2 = train_test_split(X_2, Y_2, test_size = 0.2, random_state = 0)"
      ],
      "metadata": {
        "id": "rch_sdY_rGHt"
      },
      "execution_count": 228,
      "outputs": []
    },
    {
      "cell_type": "code",
      "source": [
        "from sklearn.preprocessing import StandardScaler\n",
        "\n",
        "sc = StandardScaler()\n",
        "\n",
        "X_train_2 = sc.fit_transform(X_train_2)\n",
        "X_test_2 = sc.transform(X_test_2)"
      ],
      "metadata": {
        "id": "5-0UeR_RrTPh"
      },
      "execution_count": 229,
      "outputs": []
    },
    {
      "cell_type": "code",
      "source": [],
      "metadata": {
        "id": "W2E8PrthKtV7"
      },
      "execution_count": 229,
      "outputs": []
    },
    {
      "cell_type": "markdown",
      "source": [
        "3 networks with different layers, activation functions, neurans per layers, number of layers"
      ],
      "metadata": {
        "id": "EyvdshJmrsg_"
      }
    },
    {
      "cell_type": "markdown",
      "source": [
        "**First Network**"
      ],
      "metadata": {
        "id": "wCfvmAwMqZ8i"
      }
    },
    {
      "cell_type": "code",
      "source": [
        "from keras.models import Sequential\n",
        "from keras.layers import Dense\n",
        "from keras.layers import Dropout\n",
        "\n",
        "model1 = Sequential()\n",
        "model1.add(Dense(16, input_dim=11, activation='relu'))\n",
        "model1.add(Dense(8, activation='relu'))\n",
        "model1.add(Dense(8, activation='relu'))\n",
        "model1.add(Dense(4, activation='relu'))\n",
        "model1.add(Dense(1, activation='sigmoid'))"
      ],
      "metadata": {
        "id": "_O7MOzsgqHtq"
      },
      "execution_count": 230,
      "outputs": []
    },
    {
      "cell_type": "code",
      "source": [
        "model1.summary()"
      ],
      "metadata": {
        "colab": {
          "base_uri": "https://localhost:8080/"
        },
        "id": "Y70Wph9brWoy",
        "outputId": "d705511e-86b3-4e9f-fc14-6c3d3e532e12"
      },
      "execution_count": 231,
      "outputs": [
        {
          "output_type": "stream",
          "name": "stdout",
          "text": [
            "Model: \"sequential_28\"\n",
            "_________________________________________________________________\n",
            " Layer (type)                Output Shape              Param #   \n",
            "=================================================================\n",
            " dense_123 (Dense)           (None, 16)                192       \n",
            "                                                                 \n",
            " dense_124 (Dense)           (None, 8)                 136       \n",
            "                                                                 \n",
            " dense_125 (Dense)           (None, 8)                 72        \n",
            "                                                                 \n",
            " dense_126 (Dense)           (None, 4)                 36        \n",
            "                                                                 \n",
            " dense_127 (Dense)           (None, 1)                 5         \n",
            "                                                                 \n",
            "=================================================================\n",
            "Total params: 441\n",
            "Trainable params: 441\n",
            "Non-trainable params: 0\n",
            "_________________________________________________________________\n"
          ]
        }
      ]
    },
    {
      "cell_type": "code",
      "source": [
        "model1.compile(loss='binary_crossentropy', optimizer='adam',metrics=['accuracy']) \n"
      ],
      "metadata": {
        "id": "kNobv0QVsMH6"
      },
      "execution_count": 232,
      "outputs": []
    },
    {
      "cell_type": "code",
      "source": [
        "history1 = model1.fit(X_train_2, Y_train_2, epochs=20, batch_size=16, verbose=1, validation_split=0.2)\n"
      ],
      "metadata": {
        "colab": {
          "base_uri": "https://localhost:8080/"
        },
        "id": "pGmQ8DStsO9f",
        "outputId": "befebb9c-b4b0-4148-9fe8-57255a4ca181"
      },
      "execution_count": 233,
      "outputs": [
        {
          "output_type": "stream",
          "name": "stdout",
          "text": [
            "Epoch 1/20\n",
            "64/64 [==============================] - 1s 6ms/step - loss: 0.6703 - accuracy: 0.6129 - val_loss: 0.6832 - val_accuracy: 0.6211\n",
            "Epoch 2/20\n",
            "64/64 [==============================] - 0s 3ms/step - loss: 0.6254 - accuracy: 0.6891 - val_loss: 0.6410 - val_accuracy: 0.6758\n",
            "Epoch 3/20\n",
            "64/64 [==============================] - 0s 3ms/step - loss: 0.5807 - accuracy: 0.7136 - val_loss: 0.6061 - val_accuracy: 0.6992\n",
            "Epoch 4/20\n",
            "64/64 [==============================] - 0s 3ms/step - loss: 0.5524 - accuracy: 0.7341 - val_loss: 0.5932 - val_accuracy: 0.7070\n",
            "Epoch 5/20\n",
            "64/64 [==============================] - 0s 3ms/step - loss: 0.5333 - accuracy: 0.7370 - val_loss: 0.5785 - val_accuracy: 0.7148\n",
            "Epoch 6/20\n",
            "64/64 [==============================] - 0s 3ms/step - loss: 0.5226 - accuracy: 0.7429 - val_loss: 0.5670 - val_accuracy: 0.7188\n",
            "Epoch 7/20\n",
            "64/64 [==============================] - 0s 3ms/step - loss: 0.5126 - accuracy: 0.7507 - val_loss: 0.5655 - val_accuracy: 0.7188\n",
            "Epoch 8/20\n",
            "64/64 [==============================] - 0s 3ms/step - loss: 0.5036 - accuracy: 0.7634 - val_loss: 0.5560 - val_accuracy: 0.7188\n",
            "Epoch 9/20\n",
            "64/64 [==============================] - 0s 3ms/step - loss: 0.4973 - accuracy: 0.7664 - val_loss: 0.5508 - val_accuracy: 0.7148\n",
            "Epoch 10/20\n",
            "64/64 [==============================] - 0s 3ms/step - loss: 0.4904 - accuracy: 0.7703 - val_loss: 0.5500 - val_accuracy: 0.7148\n",
            "Epoch 11/20\n",
            "64/64 [==============================] - 0s 3ms/step - loss: 0.4834 - accuracy: 0.7742 - val_loss: 0.5489 - val_accuracy: 0.7031\n",
            "Epoch 12/20\n",
            "64/64 [==============================] - 0s 4ms/step - loss: 0.4802 - accuracy: 0.7752 - val_loss: 0.5484 - val_accuracy: 0.6992\n",
            "Epoch 13/20\n",
            "64/64 [==============================] - 0s 3ms/step - loss: 0.4739 - accuracy: 0.7820 - val_loss: 0.5424 - val_accuracy: 0.7109\n",
            "Epoch 14/20\n",
            "64/64 [==============================] - 0s 3ms/step - loss: 0.4698 - accuracy: 0.7771 - val_loss: 0.5488 - val_accuracy: 0.7070\n",
            "Epoch 15/20\n",
            "64/64 [==============================] - 0s 3ms/step - loss: 0.4670 - accuracy: 0.7830 - val_loss: 0.5495 - val_accuracy: 0.7109\n",
            "Epoch 16/20\n",
            "64/64 [==============================] - 0s 3ms/step - loss: 0.4627 - accuracy: 0.7859 - val_loss: 0.5506 - val_accuracy: 0.7109\n",
            "Epoch 17/20\n",
            "64/64 [==============================] - 0s 3ms/step - loss: 0.4619 - accuracy: 0.7820 - val_loss: 0.5500 - val_accuracy: 0.7148\n",
            "Epoch 18/20\n",
            "64/64 [==============================] - 0s 3ms/step - loss: 0.4591 - accuracy: 0.7849 - val_loss: 0.5452 - val_accuracy: 0.7266\n",
            "Epoch 19/20\n",
            "64/64 [==============================] - 0s 3ms/step - loss: 0.4561 - accuracy: 0.7840 - val_loss: 0.5422 - val_accuracy: 0.7109\n",
            "Epoch 20/20\n",
            "64/64 [==============================] - 0s 2ms/step - loss: 0.4545 - accuracy: 0.7898 - val_loss: 0.5453 - val_accuracy: 0.7188\n"
          ]
        }
      ]
    },
    {
      "cell_type": "code",
      "source": [
        "y_pred_1 = model1.predict(X_test_2) \n",
        "y_pred_1 = y_pred_1.round()"
      ],
      "metadata": {
        "colab": {
          "base_uri": "https://localhost:8080/"
        },
        "id": "uHL3FQKxv82P",
        "outputId": "e5f6187c-75f4-4756-bf5e-f251a2d90f99"
      },
      "execution_count": 234,
      "outputs": [
        {
          "output_type": "stream",
          "name": "stdout",
          "text": [
            "10/10 [==============================] - 0s 2ms/step\n"
          ]
        }
      ]
    },
    {
      "cell_type": "code",
      "source": [
        "import seaborn as sns\n",
        "from sklearn.metrics import confusion_matrix\n",
        "from sklearn.metrics import accuracy_score\n",
        "\n",
        "cm1 = confusion_matrix(Y_test_2, y_pred_1.round())\n",
        "sns.heatmap(cm1, annot=True, cmap=\"Blues\", fmt=\"d\", cbar=False)\n",
        "\n",
        "ac1 = accuracy_score(Y_test_2, y_pred_1.round())\n",
        "print('accuracy of the model: ', ac1)"
      ],
      "metadata": {
        "colab": {
          "base_uri": "https://localhost:8080/",
          "height": 282
        },
        "id": "yQ_Dpfl-v0P3",
        "outputId": "cf2febdc-e757-4816-e4f3-bf8983e38a99"
      },
      "execution_count": 235,
      "outputs": [
        {
          "output_type": "stream",
          "name": "stdout",
          "text": [
            "accuracy of the model:  0.771875\n"
          ]
        },
        {
          "output_type": "display_data",
          "data": {
            "text/plain": [
              "<Figure size 432x288 with 1 Axes>"
            ],
            "image/png": "[encoded data removed]"
          },
          "metadata": {
            "needs_background": "light"
          }
        }
      ]
    },
    {
      "cell_type": "markdown",
      "source": [
        "Second network"
      ],
      "metadata": {
        "id": "cWcGjma_x9WJ"
      }
    },
    {
      "cell_type": "code",
      "source": [
        "from keras.models import Sequential\n",
        "from keras.layers import Dense\n",
        "from keras.layers import Dropout\n",
        "\n",
        "model2 = Sequential()\n",
        "model2.add(Dense(256, input_dim=11, activation='relu'))\n",
        "model2.add(Dropout(0.1, input_shape=(256,)))\n",
        "model2.add(Dense(128, activation='relu'))\n",
        "model2.add(Dropout(0.1, input_shape=(128,)))\n",
        "model2.add(Dense(64, activation='relu'))\n",
        "model2.add(Dropout(0.1, input_shape=(64,)))\n",
        "model2.add(Dense(32, activation='relu'))\n",
        "model2.add(Dropout(0.1, input_shape=(32,)))\n",
        "model2.add(Dense(16, activation='relu'))\n",
        "model2.add(Dropout(0.1, input_shape=(16,)))\n",
        "model2.add(Dense(8, activation='relu'))\n",
        "model2.add(Dropout(0.1, input_shape=(8,)))\n",
        "model2.add(Dense(1, activation='sigmoid'))"
      ],
      "metadata": {
        "id": "pgfuvKpUtm8G"
      },
      "execution_count": 236,
      "outputs": []
    },
    {
      "cell_type": "code",
      "source": [
        "model2.summary()"
      ],
      "metadata": {
        "colab": {
          "base_uri": "https://localhost:8080/"
        },
        "id": "UIzZ0Jz3slcL",
        "outputId": "4f29404a-8c64-40ad-fd19-41642a767d4a"
      },
      "execution_count": 237,
      "outputs": [
        {
          "output_type": "stream",
          "name": "stdout",
          "text": [
            "Model: \"sequential_29\"\n",
            "_________________________________________________________________\n",
            " Layer (type)                Output Shape              Param #   \n",
            "=================================================================\n",
            " dense_128 (Dense)           (None, 256)               3072      \n",
            "                                                                 \n",
            " dropout_40 (Dropout)        (None, 256)               0         \n",
            "                                                                 \n",
            " dense_129 (Dense)           (None, 128)               32896     \n",
            "                                                                 \n",
            " dropout_41 (Dropout)        (None, 128)               0         \n",
            "                                                                 \n",
            " dense_130 (Dense)           (None, 64)                8256      \n",
            "                                                                 \n",
            " dropout_42 (Dropout)        (None, 64)                0         \n",
            "                                                                 \n",
            " dense_131 (Dense)           (None, 32)                2080      \n",
            "                                                                 \n",
            " dropout_43 (Dropout)        (None, 32)                0         \n",
            "                                                                 \n",
            " dense_132 (Dense)           (None, 16)                528       \n",
            "                                                                 \n",
            " dropout_44 (Dropout)        (None, 16)                0         \n",
            "                                                                 \n",
            " dense_133 (Dense)           (None, 8)                 136       \n",
            "                                                                 \n",
            " dropout_45 (Dropout)        (None, 8)                 0         \n",
            "                                                                 \n",
            " dense_134 (Dense)           (None, 1)                 9         \n",
            "                                                                 \n",
            "=================================================================\n",
            "Total params: 46,977\n",
            "Trainable params: 46,977\n",
            "Non-trainable params: 0\n",
            "_________________________________________________________________\n"
          ]
        }
      ]
    },
    {
      "cell_type": "code",
      "source": [
        "model2.compile(loss='binary_crossentropy', optimizer='adam',metrics=['accuracy']) \n"
      ],
      "metadata": {
        "id": "KtQMe_Fey4zJ"
      },
      "execution_count": 238,
      "outputs": []
    },
    {
      "cell_type": "code",
      "source": [
        "history2 = model2.fit(X_train_2, Y_train_2, epochs=20, batch_size=32, verbose=1, validation_split=0.2)\n"
      ],
      "metadata": {
        "colab": {
          "base_uri": "https://localhost:8080/"
        },
        "id": "Q0qaAQ3DzJ8b",
        "outputId": "435b43c0-53f8-4eb3-a0ee-adce246c5b64"
      },
      "execution_count": 239,
      "outputs": [
        {
          "output_type": "stream",
          "name": "stdout",
          "text": [
            "Epoch 1/20\n",
            "32/32 [==============================] - 1s 10ms/step - loss: 0.6386 - accuracy: 0.6373 - val_loss: 0.5656 - val_accuracy: 0.7266\n",
            "Epoch 2/20\n",
            "32/32 [==============================] - 0s 5ms/step - loss: 0.5718 - accuracy: 0.7243 - val_loss: 0.5314 - val_accuracy: 0.7266\n",
            "Epoch 3/20\n",
            "32/32 [==============================] - 0s 5ms/step - loss: 0.5452 - accuracy: 0.7331 - val_loss: 0.5144 - val_accuracy: 0.7148\n",
            "Epoch 4/20\n",
            "32/32 [==============================] - 0s 5ms/step - loss: 0.5236 - accuracy: 0.7507 - val_loss: 0.5034 - val_accuracy: 0.7188\n",
            "Epoch 5/20\n",
            "32/32 [==============================] - 0s 5ms/step - loss: 0.5127 - accuracy: 0.7693 - val_loss: 0.5010 - val_accuracy: 0.7305\n",
            "Epoch 6/20\n",
            "32/32 [==============================] - 0s 5ms/step - loss: 0.4921 - accuracy: 0.7654 - val_loss: 0.5001 - val_accuracy: 0.7422\n",
            "Epoch 7/20\n",
            "32/32 [==============================] - 0s 5ms/step - loss: 0.4880 - accuracy: 0.7771 - val_loss: 0.5059 - val_accuracy: 0.7188\n",
            "Epoch 8/20\n",
            "32/32 [==============================] - 0s 5ms/step - loss: 0.4945 - accuracy: 0.7703 - val_loss: 0.4996 - val_accuracy: 0.7344\n",
            "Epoch 9/20\n",
            "32/32 [==============================] - 0s 4ms/step - loss: 0.4742 - accuracy: 0.7820 - val_loss: 0.5167 - val_accuracy: 0.7461\n",
            "Epoch 10/20\n",
            "32/32 [==============================] - 0s 5ms/step - loss: 0.4809 - accuracy: 0.7820 - val_loss: 0.5131 - val_accuracy: 0.7383\n",
            "Epoch 11/20\n",
            "32/32 [==============================] - 0s 5ms/step - loss: 0.4638 - accuracy: 0.7908 - val_loss: 0.5256 - val_accuracy: 0.7383\n",
            "Epoch 12/20\n",
            "32/32 [==============================] - 0s 5ms/step - loss: 0.4441 - accuracy: 0.8162 - val_loss: 0.5224 - val_accuracy: 0.7500\n",
            "Epoch 13/20\n",
            "32/32 [==============================] - 0s 5ms/step - loss: 0.4461 - accuracy: 0.8065 - val_loss: 0.5130 - val_accuracy: 0.7578\n",
            "Epoch 14/20\n",
            "32/32 [==============================] - 0s 5ms/step - loss: 0.4326 - accuracy: 0.8084 - val_loss: 0.6013 - val_accuracy: 0.7109\n",
            "Epoch 15/20\n",
            "32/32 [==============================] - 0s 5ms/step - loss: 0.4277 - accuracy: 0.8143 - val_loss: 0.5367 - val_accuracy: 0.7578\n",
            "Epoch 16/20\n",
            "32/32 [==============================] - 0s 5ms/step - loss: 0.4111 - accuracy: 0.8338 - val_loss: 0.5526 - val_accuracy: 0.7539\n",
            "Epoch 17/20\n",
            "32/32 [==============================] - 0s 5ms/step - loss: 0.4163 - accuracy: 0.8299 - val_loss: 0.5634 - val_accuracy: 0.7500\n",
            "Epoch 18/20\n",
            "32/32 [==============================] - 0s 5ms/step - loss: 0.4064 - accuracy: 0.8319 - val_loss: 0.5291 - val_accuracy: 0.7461\n",
            "Epoch 19/20\n",
            "32/32 [==============================] - 0s 5ms/step - loss: 0.4001 - accuracy: 0.8387 - val_loss: 0.5565 - val_accuracy: 0.7734\n",
            "Epoch 20/20\n",
            "32/32 [==============================] - 0s 5ms/step - loss: 0.4114 - accuracy: 0.8250 - val_loss: 0.5323 - val_accuracy: 0.7617\n"
          ]
        }
      ]
    },
    {
      "cell_type": "code",
      "source": [
        "y_pred_2 = model2.predict(X_test_2) \n",
        "y_pred_2 = y_pred_2.round()"
      ],
      "metadata": {
        "colab": {
          "base_uri": "https://localhost:8080/"
        },
        "id": "b6mZ3na4zMjK",
        "outputId": "e9344b84-aea7-404a-8624-475c3c280adc"
      },
      "execution_count": 240,
      "outputs": [
        {
          "output_type": "stream",
          "name": "stdout",
          "text": [
            "10/10 [==============================] - 0s 2ms/step\n"
          ]
        }
      ]
    },
    {
      "cell_type": "code",
      "source": [
        "import seaborn as sns\n",
        "from sklearn.metrics import confusion_matrix\n",
        "from sklearn.metrics import accuracy_score\n",
        "\n",
        "cm2 = confusion_matrix(Y_test_2, y_pred_2.round())\n",
        "sns.heatmap(cm2, annot=True, cmap=\"Blues\", fmt=\"d\", cbar=False)\n",
        "\n",
        "ac2 = accuracy_score(Y_test_2, y_pred_2.round())\n",
        "print('accuracy of the model: ', ac2)"
      ],
      "metadata": {
        "colab": {
          "base_uri": "https://localhost:8080/",
          "height": 282
        },
        "id": "BhXcI0KCzZex",
        "outputId": "b713db21-ad4f-4bde-cec4-b6cc44a64406"
      },
      "execution_count": 241,
      "outputs": [
        {
          "output_type": "stream",
          "name": "stdout",
          "text": [
            "accuracy of the model:  0.759375\n"
          ]
        },
        {
          "output_type": "display_data",
          "data": {
            "text/plain": [
              "<Figure size 432x288 with 1 Axes>"
            ],
            "image/png": "[encoded data removed]"
          },
          "metadata": {
            "needs_background": "light"
          }
        }
      ]
    },
    {
      "cell_type": "markdown",
      "source": [
        "Third network"
      ],
      "metadata": {
        "id": "i31dnm3u00Xe"
      }
    },
    {
      "cell_type": "code",
      "source": [
        "model3 = Sequential()\n",
        "model3.add(Dense(256, kernel_initializer='uniform', activation='relu', input_dim=11))\n",
        "model3.add(Dropout(0.1, input_shape=(256,)))\n",
        "model3.add(Dense(64, kernel_initializer='uniform', activation='relu'))\n",
        "model3.add(Dense(128, kernel_initializer='uniform', activation='relu'))\n",
        "model3.add(Dense(128, kernel_initializer='uniform', activation='relu'))\n",
        "model3.add(Dense(128, kernel_initializer='uniform', activation='relu'))\n",
        "model3.add(Dense(1, kernel_initializer='uniform', activation='sigmoid'))\n"
      ],
      "metadata": {
        "id": "KCTnSjkQzdXC"
      },
      "execution_count": 242,
      "outputs": []
    },
    {
      "cell_type": "code",
      "source": [
        "model3.compile(loss='binary_crossentropy', optimizer='adam',metrics=['accuracy']) \n"
      ],
      "metadata": {
        "id": "kjVGePbS05hc"
      },
      "execution_count": 243,
      "outputs": []
    },
    {
      "cell_type": "code",
      "source": [
        "history3 = model3.fit(X_train_2, Y_train_2, epochs=20, batch_size=64,  verbose=1, validation_split=0.2)\n"
      ],
      "metadata": {
        "colab": {
          "base_uri": "https://localhost:8080/"
        },
        "id": "EUsjlZh708ha",
        "outputId": "5f9bcc21-a081-41a6-c84c-053078433ed3"
      },
      "execution_count": 244,
      "outputs": [
        {
          "output_type": "stream",
          "name": "stdout",
          "text": [
            "Epoch 1/20\n",
            "16/16 [==============================] - 1s 18ms/step - loss: 0.6921 - accuracy: 0.5220 - val_loss: 0.6866 - val_accuracy: 0.5508\n",
            "Epoch 2/20\n",
            "16/16 [==============================] - 0s 8ms/step - loss: 0.6482 - accuracy: 0.5973 - val_loss: 0.5700 - val_accuracy: 0.7539\n",
            "Epoch 3/20\n",
            "16/16 [==============================] - 0s 6ms/step - loss: 0.5649 - accuracy: 0.7361 - val_loss: 0.5336 - val_accuracy: 0.7148\n",
            "Epoch 4/20\n",
            "16/16 [==============================] - 0s 7ms/step - loss: 0.5233 - accuracy: 0.7546 - val_loss: 0.5127 - val_accuracy: 0.7461\n",
            "Epoch 5/20\n",
            "16/16 [==============================] - 0s 5ms/step - loss: 0.5095 - accuracy: 0.7625 - val_loss: 0.5157 - val_accuracy: 0.7227\n",
            "Epoch 6/20\n",
            "16/16 [==============================] - 0s 6ms/step - loss: 0.4990 - accuracy: 0.7634 - val_loss: 0.5220 - val_accuracy: 0.7188\n",
            "Epoch 7/20\n",
            "16/16 [==============================] - 0s 7ms/step - loss: 0.4936 - accuracy: 0.7683 - val_loss: 0.5135 - val_accuracy: 0.7344\n",
            "Epoch 8/20\n",
            "16/16 [==============================] - 0s 6ms/step - loss: 0.4837 - accuracy: 0.7703 - val_loss: 0.5328 - val_accuracy: 0.7227\n",
            "Epoch 9/20\n",
            "16/16 [==============================] - 0s 6ms/step - loss: 0.4774 - accuracy: 0.7771 - val_loss: 0.5312 - val_accuracy: 0.7266\n",
            "Epoch 10/20\n",
            "16/16 [==============================] - 0s 7ms/step - loss: 0.4755 - accuracy: 0.7801 - val_loss: 0.5372 - val_accuracy: 0.7227\n",
            "Epoch 11/20\n",
            "16/16 [==============================] - 0s 6ms/step - loss: 0.4658 - accuracy: 0.7859 - val_loss: 0.5204 - val_accuracy: 0.7422\n",
            "Epoch 12/20\n",
            "16/16 [==============================] - 0s 6ms/step - loss: 0.4630 - accuracy: 0.7898 - val_loss: 0.5416 - val_accuracy: 0.7461\n",
            "Epoch 13/20\n",
            "16/16 [==============================] - 0s 8ms/step - loss: 0.4576 - accuracy: 0.7820 - val_loss: 0.5405 - val_accuracy: 0.7305\n",
            "Epoch 14/20\n",
            "16/16 [==============================] - 0s 7ms/step - loss: 0.4498 - accuracy: 0.8006 - val_loss: 0.5331 - val_accuracy: 0.7461\n",
            "Epoch 15/20\n",
            "16/16 [==============================] - 0s 6ms/step - loss: 0.4655 - accuracy: 0.7879 - val_loss: 0.5410 - val_accuracy: 0.7500\n",
            "Epoch 16/20\n",
            "16/16 [==============================] - 0s 6ms/step - loss: 0.4558 - accuracy: 0.7918 - val_loss: 0.5336 - val_accuracy: 0.7422\n",
            "Epoch 17/20\n",
            "16/16 [==============================] - 0s 7ms/step - loss: 0.4458 - accuracy: 0.7986 - val_loss: 0.5137 - val_accuracy: 0.7461\n",
            "Epoch 18/20\n",
            "16/16 [==============================] - 0s 7ms/step - loss: 0.4352 - accuracy: 0.8065 - val_loss: 0.5502 - val_accuracy: 0.7344\n",
            "Epoch 19/20\n",
            "16/16 [==============================] - 0s 7ms/step - loss: 0.4366 - accuracy: 0.8104 - val_loss: 0.5586 - val_accuracy: 0.7461\n",
            "Epoch 20/20\n",
            "16/16 [==============================] - 0s 7ms/step - loss: 0.4386 - accuracy: 0.8074 - val_loss: 0.5421 - val_accuracy: 0.7422\n"
          ]
        }
      ]
    },
    {
      "cell_type": "code",
      "source": [
        "y_pred_3 = model3.predict(X_test_2) \n",
        "y_pred_3 = y_pred_3.round()"
      ],
      "metadata": {
        "colab": {
          "base_uri": "https://localhost:8080/"
        },
        "id": "pWu-UkdJ1BYT",
        "outputId": "c18c6448-5400-4088-c691-303775a6984b"
      },
      "execution_count": 245,
      "outputs": [
        {
          "output_type": "stream",
          "name": "stdout",
          "text": [
            "10/10 [==============================] - 0s 2ms/step\n"
          ]
        }
      ]
    },
    {
      "cell_type": "code",
      "source": [
        "import seaborn as sns\n",
        "from sklearn.metrics import confusion_matrix\n",
        "from sklearn.metrics import accuracy_score\n",
        "\n",
        "cm3 = confusion_matrix(Y_test_2, y_pred_3.round())\n",
        "sns.heatmap(cm3, annot=True, cmap=\"Blues\", fmt=\"d\", cbar=False)\n",
        "\n",
        "ac3 = accuracy_score(Y_test_2, y_pred_3.round())\n",
        "print('accuracy of the model: ', ac3)"
      ],
      "metadata": {
        "colab": {
          "base_uri": "https://localhost:8080/",
          "height": 282
        },
        "id": "Q_pGhtLj1Jn5",
        "outputId": "dff79879-cd2e-465b-e44d-bd177791551b"
      },
      "execution_count": 246,
      "outputs": [
        {
          "output_type": "stream",
          "name": "stdout",
          "text": [
            "accuracy of the model:  0.746875\n"
          ]
        },
        {
          "output_type": "display_data",
          "data": {
            "text/plain": [
              "<Figure size 432x288 with 1 Axes>"
            ],
            "image/png": "[encoded data removed]"
          },
          "metadata": {
            "needs_background": "light"
          }
        }
      ]
    },
    {
      "cell_type": "code",
      "source": [
        "import matplotlib.pyplot as plt\n",
        "plt.plot(history1.history['loss'])\n",
        "plt.plot(history2.history['loss'])\n",
        "plt.plot(history3.history['loss'])\n",
        "plt.title('model loss')\n",
        "plt.ylabel('loss')\n",
        "plt.xlabel('epoch')\n",
        "plt.legend(['train1','train2','train3','val1','val2','val3'], loc='upper left')\n",
        "plt.show()"
      ],
      "metadata": {
        "colab": {
          "base_uri": "https://localhost:8080/",
          "height": 295
        },
        "id": "w6yFh-3m1MUy",
        "outputId": "54c18b5a-c353-468a-996a-3c5dfcbf7ef9"
      },
      "execution_count": 247,
      "outputs": [
        {
          "output_type": "display_data",
          "data": {
            "text/plain": [
              "<Figure size 432x288 with 1 Axes>"
            ],
            "image/png": "[encoded data removed]"
          },
          "metadata": {
            "needs_background": "light"
          }
        }
      ]
    },
    {
      "cell_type": "code",
      "source": [
        "import matplotlib.pyplot as plt\n",
        "plt.plot(history1.history['val_loss'])\n",
        "plt.plot(history2.history['val_loss'])\n",
        "plt.plot(history3.history['val_loss'])\n",
        "plt.title('model loss')\n",
        "plt.ylabel('loss')\n",
        "plt.xlabel('epoch')\n",
        "plt.legend(['val1','val2','val3'], loc='upper left')\n",
        "plt.show()"
      ],
      "metadata": {
        "colab": {
          "base_uri": "https://localhost:8080/",
          "height": 295
        },
        "id": "vSu48fxG36P1",
        "outputId": "8ac96000-e974-4e51-b61d-cd97810dee5b"
      },
      "execution_count": 248,
      "outputs": [
        {
          "output_type": "display_data",
          "data": {
            "text/plain": [
              "<Figure size 432x288 with 1 Axes>"
            ],
            "image/png": "[encoded data removed]"
          },
          "metadata": {
            "needs_background": "light"
          }
        }
      ]
    },
    {
      "cell_type": "code",
      "source": [
        "xindex = ['First','Second', 'Third']\n",
        "yindex = [ac1,ac2,ac3]\n",
        "\n",
        "plot = plt.figure(figsize=(5,5))\n",
        "plt.scatter(xindex, yindex)\n",
        "plt.xlabel('Model')\n",
        "plt.ylabel('Accuracy')\n",
        "     "
      ],
      "metadata": {
        "colab": {
          "base_uri": "https://localhost:8080/",
          "height": 351
        },
        "id": "TN-wVlFt5t5j",
        "outputId": "e346f92a-4e50-4743-89f6-bef9e63511a1"
      },
      "execution_count": 249,
      "outputs": [
        {
          "output_type": "execute_result",
          "data": {
            "text/plain": [
              "Text(0, 0.5, 'Accuracy')"
            ]
          },
          "metadata": {},
          "execution_count": 249
        },
        {
          "output_type": "display_data",
          "data": {
            "text/plain": [
              "<Figure size 360x360 with 1 Axes>"
            ],
            "image/png": "[encoded data removed]"
          },
          "metadata": {
            "needs_background": "light"
          }
        }
      ]
    },
    {
      "cell_type": "code",
      "source": [],
      "metadata": {
        "id": "px5OmxCh5zkI"
      },
      "execution_count": 249,
      "outputs": []
    }
  ]
}